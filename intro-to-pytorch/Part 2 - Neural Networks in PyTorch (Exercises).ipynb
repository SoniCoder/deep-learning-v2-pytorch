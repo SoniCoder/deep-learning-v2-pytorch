{
 "cells": [
  {
   "cell_type": "markdown",
   "metadata": {},
   "source": [
    "# Neural networks with PyTorch\n",
    "\n",
    "Deep learning networks tend to be massive with dozens or hundreds of layers, that's where the term \"deep\" comes from. You can build one of these deep networks using only weight matrices as we did in the previous notebook, but in general it's very cumbersome and difficult to implement. PyTorch has a nice module `nn` that provides a nice way to efficiently build large neural networks."
   ]
  },
  {
   "cell_type": "code",
   "execution_count": 1,
   "metadata": {
    "collapsed": true
   },
   "outputs": [],
   "source": [
    "# Import necessary packages\n",
    "\n",
    "%matplotlib inline\n",
    "%config InlineBackend.figure_format = 'retina'\n",
    "\n",
    "import numpy as np\n",
    "import torch\n",
    "\n",
    "import helper\n",
    "\n",
    "import matplotlib.pyplot as plt"
   ]
  },
  {
   "cell_type": "markdown",
   "metadata": {},
   "source": [
    "\n",
    "Now we're going to build a larger network that can solve a (formerly) difficult problem, identifying text in an image. Here we'll use the MNIST dataset which consists of greyscale handwritten digits. Each image is 28x28 pixels, you can see a sample below\n",
    "\n",
    "<img src='assets/mnist.png'>\n",
    "\n",
    "Our goal is to build a neural network that can take one of these images and predict the digit in the image.\n",
    "\n",
    "First up, we need to get our dataset. This is provided through the `torchvision` package. The code below will download the MNIST dataset, then create training and test datasets for us. Don't worry too much about the details here, you'll learn more about this later."
   ]
  },
  {
   "cell_type": "code",
   "execution_count": 2,
   "metadata": {
    "collapsed": true,
    "tags": []
   },
   "outputs": [
    {
     "output_type": "stream",
     "name": "stdout",
     "text": "Downloading http://yann.lecun.com/exdb/mnist/train-images-idx3-ubyte.gz to /root/.pytorch/MNIST_data/MNIST/raw/train-images-idx3-ubyte.gz\n"
    },
    {
     "output_type": "display_data",
     "data": {
      "text/plain": "HBox(children=(FloatProgress(value=1.0, bar_style='info', max=1.0), HTML(value='')))",
      "application/vnd.jupyter.widget-view+json": {
       "version_major": 2,
       "version_minor": 0,
       "model_id": "b9db0722ef794a5dafdf6ebdf8e81ef0"
      }
     },
     "metadata": {}
    },
    {
     "output_type": "stream",
     "name": "stdout",
     "text": "Extracting /root/.pytorch/MNIST_data/MNIST/raw/train-images-idx3-ubyte.gz to /root/.pytorch/MNIST_data/MNIST/raw\nDownloading http://yann.lecun.com/exdb/mnist/train-labels-idx1-ubyte.gz to /root/.pytorch/MNIST_data/MNIST/raw/train-labels-idx1-ubyte.gz\n"
    },
    {
     "output_type": "display_data",
     "data": {
      "text/plain": "HBox(children=(FloatProgress(value=1.0, bar_style='info', max=1.0), HTML(value='')))",
      "application/vnd.jupyter.widget-view+json": {
       "version_major": 2,
       "version_minor": 0,
       "model_id": "739db60d7b9245cba8cb28d8d8595f7d"
      }
     },
     "metadata": {}
    },
    {
     "output_type": "stream",
     "name": "stdout",
     "text": "Extracting /root/.pytorch/MNIST_data/MNIST/raw/train-labels-idx1-ubyte.gz to /root/.pytorch/MNIST_data/MNIST/raw\nDownloading http://yann.lecun.com/exdb/mnist/t10k-images-idx3-ubyte.gz to /root/.pytorch/MNIST_data/MNIST/raw/t10k-images-idx3-ubyte.gz\n"
    },
    {
     "output_type": "display_data",
     "data": {
      "text/plain": "HBox(children=(FloatProgress(value=1.0, bar_style='info', max=1.0), HTML(value='')))",
      "application/vnd.jupyter.widget-view+json": {
       "version_major": 2,
       "version_minor": 0,
       "model_id": "23fe01f544ef4f21a24d96ed130975b3"
      }
     },
     "metadata": {}
    },
    {
     "output_type": "stream",
     "name": "stdout",
     "text": "Extracting /root/.pytorch/MNIST_data/MNIST/raw/t10k-images-idx3-ubyte.gz to /root/.pytorch/MNIST_data/MNIST/raw\nDownloading http://yann.lecun.com/exdb/mnist/t10k-labels-idx1-ubyte.gz to /root/.pytorch/MNIST_data/MNIST/raw/t10k-labels-idx1-ubyte.gz\n"
    },
    {
     "output_type": "display_data",
     "data": {
      "text/plain": "HBox(children=(FloatProgress(value=1.0, bar_style='info', max=1.0), HTML(value='')))",
      "application/vnd.jupyter.widget-view+json": {
       "version_major": 2,
       "version_minor": 0,
       "model_id": "576eee698f14442cbdcb447ae0893d67"
      }
     },
     "metadata": {}
    },
    {
     "output_type": "stream",
     "name": "stdout",
     "text": "Extracting /root/.pytorch/MNIST_data/MNIST/raw/t10k-labels-idx1-ubyte.gz to /root/.pytorch/MNIST_data/MNIST/raw\nProcessing...\nDone!\n"
    }
   ],
   "source": [
    "### Run this cell\n",
    "\n",
    "from torchvision import datasets, transforms\n",
    "\n",
    "# Define a transform to normalize the data\n",
    "transform = transforms.Compose([transforms.ToTensor(),\n",
    "                              transforms.Normalize((0.5,), (0.5,)),\n",
    "                              ])\n",
    "\n",
    "# Download and load the training data\n",
    "trainset = datasets.MNIST('~/.pytorch/MNIST_data/', download=True, train=True, transform=transform)\n",
    "trainloader = torch.utils.data.DataLoader(trainset, batch_size=64, shuffle=True)"
   ]
  },
  {
   "cell_type": "markdown",
   "metadata": {},
   "source": [
    "We have the training data loaded into `trainloader` and we make that an iterator with `iter(trainloader)`. Later, we'll use this to loop through the dataset for training, like\n",
    "\n",
    "```python\n",
    "for image, label in trainloader:\n",
    "    ## do things with images and labels\n",
    "```\n",
    "\n",
    "You'll notice I created the `trainloader` with a batch size of 64, and `shuffle=True`. The batch size is the number of images we get in one iteration from the data loader and pass through our network, often called a *batch*. And `shuffle=True` tells it to shuffle the dataset every time we start going through the data loader again. But here I'm just grabbing the first batch so we can check out the data. We can see below that `images` is just a tensor with size `(64, 1, 28, 28)`. So, 64 images per batch, 1 color channel, and 28x28 images."
   ]
  },
  {
   "cell_type": "code",
   "execution_count": 3,
   "metadata": {
    "collapsed": true,
    "tags": []
   },
   "outputs": [
    {
     "output_type": "stream",
     "name": "stdout",
     "text": "<class 'torch.Tensor'>\ntorch.Size([64, 1, 28, 28])\ntorch.Size([64])\n"
    }
   ],
   "source": [
    "dataiter = iter(trainloader)\n",
    "images, labels = dataiter.next()\n",
    "print(type(images))\n",
    "print(images.shape)\n",
    "print(labels.shape)"
   ]
  },
  {
   "cell_type": "markdown",
   "metadata": {},
   "source": [
    "This is what one of the images looks like. "
   ]
  },
  {
   "cell_type": "code",
   "execution_count": 4,
   "metadata": {
    "collapsed": true
   },
   "outputs": [
    {
     "output_type": "display_data",
     "data": {
      "text/plain": "<Figure size 432x288 with 1 Axes>",
      "image/png": "[encoded data removed]"
     },
     "metadata": {
      "image/png": {
       "width": 251,
       "height": 248
      },
      "needs_background": "light"
     }
    }
   ],
   "source": [
    "plt.imshow(images[1].numpy().squeeze(), cmap='Greys_r');"
   ]
  },
  {
   "cell_type": "markdown",
   "metadata": {},
   "source": [
    "First, let's try to build a simple network for this dataset using weight matrices and matrix multiplications. Then, we'll see how to do it using PyTorch's `nn` module which provides a much more convenient and powerful method for defining network architectures.\n",
    "\n",
    "The networks you've seen so far are called *fully-connected* or *dense* networks. Each unit in one layer is connected to each unit in the next layer. In fully-connected networks, the input to each layer must be a one-dimensional vector (which can be stacked into a 2D tensor as a batch of multiple examples). However, our images are 28x28 2D tensors, so we need to convert them into 1D vectors. Thinking about sizes, we need to convert the batch of images with shape `(64, 1, 28, 28)` to a have a shape of `(64, 784)`, 784 is 28 times 28. This is typically called *flattening*, we flattened the 2D images into 1D vectors.\n",
    "\n",
    "Previously you built a network with one output unit. Here we need 10 output units, one for each digit. We want our network to predict the digit shown in an image, so what we'll do is calculate probabilities that the image is of any one digit or class. This ends up being a discrete probability distribution over the classes (digits) that tells us the most likely class for the image. That means we need 10 output units for the 10 classes (digits). We'll see how to convert the network output into a probability distribution next.\n",
    "\n",
    "> **Exercise:** Flatten the batch of images `images`. Then build a multi-layer network with 784 input units, 256 hidden units, and 10 output units using random tensors for the weights and biases. For now, use a sigmoid activation for the hidden layer. Leave the output layer without an activation, we'll add one that gives us a probability distribution next."
   ]
  },
  {
   "cell_type": "code",
   "execution_count": 5,
   "metadata": {
    "collapsed": true
   },
   "outputs": [
    {
     "output_type": "execute_result",
     "data": {
      "text/plain": "tensor([[ 1.8668e+01,  1.5570e+01, -1.2228e+00, -2.6643e+00,  2.5763e+01,\n          1.6025e+00,  4.9561e+00, -2.4354e+00,  8.6817e-01, -5.3775e+00],\n        [ 1.8188e+01,  9.3616e+00, -3.3940e-02, -8.5407e+00,  2.0021e+01,\n          1.1664e+01, -5.7361e-01,  6.2574e+00, -8.9171e+00,  4.4042e+00],\n        [ 1.5972e+01,  2.7173e+01,  9.8375e+00,  2.5815e+00,  8.0205e+00,\n          7.1725e+00,  3.7460e+00, -1.6710e+00,  2.1591e+00, -6.0949e+00],\n        [ 1.5344e+01,  1.6634e+01, -3.4777e+00, -9.8855e+00,  1.6631e+01,\n          1.1283e+01,  6.2899e+00, -3.4649e+00, -1.1702e+01,  2.2828e+00],\n        [ 2.0779e+01,  1.4263e+01,  1.0790e+01, -2.7135e+00,  9.4788e+00,\n          3.3845e+00,  7.5243e+00,  4.6289e+00, -8.3963e-01, -8.8887e+00],\n        [ 1.8564e+01,  1.3089e+01,  1.1670e+00,  2.4223e-01,  8.2372e+00,\n         -2.2046e+00,  2.3253e+01, -6.2537e+00, -1.5497e+00, -5.5073e+00],\n        [ 1.9940e+01,  2.3163e+01,  9.9404e+00, -5.2911e-02,  1.1313e+01,\n          7.0966e+00,  1.3364e+01, -2.7040e+00, -9.3657e+00,  4.2348e+00],\n        [ 8.9120e+00,  1.7245e+01, -6.6840e+00, -6.6965e+00,  7.7422e+00,\n          1.2394e+01, -9.8933e-01, -8.7441e+00,  1.5674e-01, -8.2422e+00],\n        [ 2.1890e+01,  2.0600e+01,  7.6454e+00, -1.2583e+00,  1.6492e+01,\n          1.0939e+01, -2.4728e+00, -1.4751e+00,  8.8827e-01, -2.0971e+00],\n        [ 1.3368e+01,  7.3660e+00,  1.2934e+01, -3.6917e+00,  1.3009e+01,\n          3.3305e+00,  5.2486e+00,  1.2230e+00, -1.5120e+01, -5.4674e+00],\n        [ 1.1026e+01,  2.2268e+01,  4.9984e+00, -2.3931e+00,  1.2681e+01,\n          6.9631e+00,  1.0569e+01,  1.6817e+01,  3.4619e+00,  7.1778e+00],\n        [ 2.1376e+01,  1.2080e+01,  9.4990e+00, -3.8533e+00,  2.8024e+01,\n          8.1553e+00,  6.6586e+00, -1.2646e+01, -2.8451e+00, -3.6347e+00],\n        [ 3.4868e+01,  5.9672e+00,  1.9447e+01, -2.2009e+00,  8.4239e+00,\n         -1.1089e+01,  1.3207e+01,  1.3892e+00, -8.7688e+00, -8.7659e+00],\n        [ 2.3688e+01,  8.3214e+00,  5.3284e+00, -6.7804e+00,  1.6379e+01,\n          3.6917e+00,  1.5877e+00, -9.3597e+00,  1.1117e+00, -4.1844e+00],\n        [ 1.9871e+01,  2.2374e+01,  1.2117e+00,  2.8792e+00,  1.1505e+01,\n          6.7148e+00,  8.1705e+00,  9.9819e+00, -3.0181e+00, -2.8683e+00],\n        [ 1.5699e+01,  1.4568e+01,  2.5970e+00, -8.9780e+00,  1.9493e+01,\n          1.2841e+01,  7.6450e+00, -2.3476e+00, -5.3488e+00,  8.6775e-01],\n        [ 2.2473e+01,  1.4468e+01, -4.7840e+00, -4.9667e+00,  1.8501e+01,\n          1.5265e+00,  1.1135e+01, -1.1414e+00, -7.0173e+00, -9.8181e+00],\n        [ 2.0745e+01,  1.3140e+01, -8.9753e+00, -4.2816e+00,  1.3179e+01,\n          1.4374e+01,  1.0293e+01, -1.0555e+00, -2.8165e+00,  2.0204e+00],\n        [ 1.8440e+01,  1.3457e+01,  2.4965e+00, -7.6215e+00,  1.0793e+01,\n          1.2280e+01,  5.9746e+00, -4.7193e+00,  3.2035e-01, -8.2915e-01],\n        [ 1.6154e+01,  2.6067e+01,  5.2303e+00, -8.7939e+00,  1.5032e+01,\n          2.2218e+00,  5.6879e+00,  1.4337e+01, -4.4967e+00, -4.9391e+00],\n        [ 2.7301e+01,  1.2036e+01,  1.0054e+01,  1.0329e+01,  2.5495e+01,\n          4.1103e+00,  7.8355e+00,  4.2420e+00, -6.7782e+00, -3.5298e+00],\n        [ 2.1304e+01,  1.7385e+01, -1.4585e+00, -6.7900e+00,  1.6890e+01,\n          5.1320e+00,  2.1233e+00,  2.5708e+00,  8.2664e-01, -1.7615e+01],\n        [ 1.0992e+01,  1.3085e+01,  3.3711e+00,  4.5860e+00,  2.3267e+01,\n          5.7204e+00,  1.1400e+01, -6.2297e-01, -8.1903e+00, -9.1070e+00],\n        [ 1.6995e+01,  1.6275e+01,  4.3030e+00, -1.5856e+00,  1.4507e+01,\n         -1.0348e+01,  4.3561e+00,  4.3763e+00, -9.8247e+00, -9.3047e+00],\n        [ 2.0944e+01,  1.8368e+01, -3.4116e+00,  1.3395e+00,  1.4317e+01,\n          1.5287e+01,  5.1142e+00, -4.0652e+00,  1.6638e+00,  2.0499e+00],\n        [ 1.9095e+01,  1.4968e+01,  8.4761e+00, -5.7980e+00,  1.8940e+01,\n          1.7863e+01, -2.2349e+00, -9.6045e+00,  2.9928e+00, -2.6689e+00],\n        [ 1.6540e+01,  1.9636e+01, -8.3482e-02, -1.8185e+00,  1.7957e+01,\n          1.8720e+01,  1.4950e+00,  7.1247e-01, -5.9278e+00, -2.7559e+00],\n        [ 2.3707e+01,  1.3357e+01,  6.6999e+00, -1.1113e+00,  1.5068e+01,\n          6.9131e-01,  1.4608e+01,  5.9631e+00, -3.0020e+00, -1.1481e+01],\n        [ 2.3628e+01,  1.2793e+01,  9.9926e+00, -1.2508e+01,  1.6750e+01,\n          1.1431e+01,  1.3326e+00, -7.0730e-01,  1.7852e+00,  5.7019e-01],\n        [ 2.3287e+01,  2.6284e+01,  4.5268e+00,  6.3875e+00,  2.6892e+01,\n          1.2429e+01,  7.0587e+00, -1.6393e+00,  2.1587e-01, -7.8970e+00],\n        [ 9.5126e+00,  1.3734e+01,  9.4151e+00,  9.4395e-01,  1.4494e+01,\n          6.7761e-01,  3.9126e+00, -2.5407e+00,  2.2583e+00,  6.2597e+00],\n        [ 1.9003e+01,  1.1174e+01,  9.7099e-01,  3.9576e+00,  1.6516e+01,\n          1.2455e+01,  4.0629e+00,  4.7488e+00,  1.6493e+00,  9.6891e-01],\n        [ 2.2149e+01,  1.1149e+01,  8.3235e+00, -4.6795e+00,  8.6650e+00,\n          1.1814e+01,  1.5778e+01, -1.4493e+00, -1.3568e+01, -3.2425e+00],\n        [ 9.0438e+00,  7.2040e+00, -8.0618e+00,  7.8973e-01,  1.8058e+01,\n          1.6317e+01, -1.2146e+00, -2.2738e+00,  1.5128e+00, -6.2705e+00],\n        [ 1.9610e+01,  1.2882e+01, -1.3230e+01, -2.5547e+00,  1.5608e+01,\n          1.0559e+01, -5.2720e-02, -6.1814e+00, -5.1120e+00, -8.2354e+00],\n        [ 6.7933e+00,  4.9802e+00,  1.3055e+00,  5.0728e-02,  2.3241e+01,\n          1.7015e+01,  5.8820e+00,  7.4175e-01,  6.1739e+00,  6.2469e+00],\n        [ 1.9814e+01,  1.2215e+01,  1.4009e+01,  3.8578e+00,  1.3285e+01,\n          4.6292e+00,  1.8530e+00,  1.7953e+00,  3.6095e+00,  7.6321e+00],\n        [ 9.3691e+00,  1.2919e+01,  4.4341e+00, -1.9967e+00,  1.6263e+01,\n          1.6858e+01, -8.8846e+00, -1.0339e+01,  8.8298e+00, -5.3988e+00],\n        [ 1.7902e+01,  2.0748e+01,  9.9835e+00, -1.2777e+00,  1.5418e+01,\n          1.3917e+01,  2.6701e+00, -1.0666e+01, -1.4879e+01, -2.2202e-01],\n        [ 2.1063e+01,  1.5062e+01,  5.2103e+00,  8.6577e+00,  1.3953e+01,\n          1.5190e+01,  1.1371e+01,  1.5650e+01, -9.2556e+00,  1.5223e+00],\n        [ 1.8284e+01,  1.6736e+01,  8.0709e+00,  4.0948e+00,  1.9510e+01,\n          1.5739e+01,  1.3067e+01,  3.0507e+00, -1.1561e-01, -4.6057e+00],\n        [ 2.0200e+01,  1.5903e+01,  5.6465e+00,  4.5686e+00,  1.6913e+01,\n          8.3909e+00,  1.0702e+01,  6.7510e+00, -7.5947e+00, -4.4736e+00],\n        [ 2.4406e+01,  1.4247e+01,  5.1140e+00, -2.2954e+00,  2.5397e+01,\n          3.0688e+00,  6.6007e+00,  7.8317e+00, -3.1719e+00, -8.1472e+00],\n        [ 1.8746e+01,  1.7795e+01,  1.8846e+00,  5.7782e+00,  1.3166e+01,\n          1.0528e+01,  3.4770e+00, -1.5491e+00, -5.2043e+00, -4.1752e+00],\n        [ 6.0008e+00,  2.1837e+01,  2.5052e+00,  5.1351e+00,  2.3835e+01,\n          1.1481e+01,  3.1199e+00,  1.2253e+01,  5.5657e-01, -2.1103e+00],\n        [ 1.6163e+01,  8.3584e+00, -5.8960e+00,  8.3893e+00,  3.9668e+00,\n          6.4852e+00,  1.3866e+01,  2.1270e+00,  3.0800e+00, -7.3003e+00],\n        [ 1.5786e+01,  1.0355e+01,  6.0849e+00, -5.4292e+00,  1.8139e+01,\n          1.6373e+01,  8.6249e+00, -8.8203e+00,  2.9141e+00, -8.8210e+00],\n        [ 1.6955e+01,  1.3010e+01, -1.1620e+01, -9.6206e+00,  1.1217e+01,\n          8.3051e+00,  1.3832e+00, -1.1674e+01, -8.7178e+00, -6.0304e+00],\n        [ 1.6290e+01,  1.1307e+01, -4.2390e+00,  5.8727e-01,  6.1449e+00,\n          6.0851e+00,  1.9633e+00,  5.7497e+00, -7.5908e+00, -9.9807e+00],\n        [ 1.7366e+01,  1.4463e+01,  2.7405e+00, -7.9652e+00,  1.6516e+01,\n          1.0101e+01,  5.4976e+00, -7.5682e+00, -4.4612e+00, -3.4612e+00],\n        [ 1.8716e+01,  2.5295e+01, -6.1742e-01,  6.9509e+00,  1.0491e+01,\n          2.1742e+00,  8.8299e+00,  3.3212e-01,  4.9713e+00, -1.1902e+01],\n        [ 1.6655e+01,  1.8334e+01, -1.3969e-01, -9.2311e+00,  8.9693e+00,\n          1.1509e+01,  1.0564e+01,  9.7224e+00, -4.5551e+00, -8.2611e+00],\n        [ 1.2362e+01,  2.3733e+01,  6.1261e+00,  1.1884e+01,  1.2987e+01,\n          1.3723e+01,  1.0438e+01,  5.9413e+00, -1.4093e+00, -6.9757e+00],\n        [ 1.8423e+01,  1.8502e+01, -5.8573e+00, -6.3699e-01,  1.1046e+01,\n          1.1748e+01,  1.0980e+01,  2.2122e+00, -4.4174e+00, -3.8529e+00],\n        [ 1.1672e+01,  1.8078e+01,  6.2130e+00,  3.3599e+00,  4.5899e+00,\n          1.8999e+01, -3.1964e+00, -4.9531e+00,  3.1954e+00,  4.8367e+00],\n        [ 1.9866e+01,  1.6968e+01, -2.4780e+00, -4.2775e+00,  1.8704e+01,\n          7.6088e+00,  1.2134e+01,  3.7348e+00,  4.5135e+00, -8.6814e+00],\n        [ 9.3781e+00,  1.3175e+01,  5.9384e+00, -2.1400e+00,  1.5967e+01,\n          1.7835e+01, -7.9451e-01,  2.4163e+00,  2.1982e+00,  4.2635e+00],\n        [ 1.9848e+01,  2.2255e+01,  2.1985e+00,  3.0496e+00,  1.5961e+01,\n          1.4937e+00,  4.0052e+00,  8.5436e+00, -1.0943e+00, -8.8649e+00],\n        [ 1.9862e+01,  1.2771e+01,  2.9140e+00, -1.1659e+01,  1.8593e+01,\n          1.6432e+01,  4.1077e+00, -8.6536e+00, -1.0736e+01, -4.9562e+00],\n        [ 1.6367e+01,  1.8353e+01, -3.2747e+00, -5.9532e+00,  1.9599e+01,\n          2.0032e+00,  6.3252e+00, -3.2026e+00,  4.8488e+00, -1.3292e+01],\n        [ 2.2757e+01,  1.1149e+01,  4.6219e+00,  2.2887e-01,  2.0471e+01,\n          5.3719e+00,  9.0858e+00, -1.7075e-01, -1.1491e+01, -4.5868e+00],\n        [ 2.2321e+01,  1.1301e+01, -5.5896e+00,  2.3486e+00,  1.8054e+01,\n          5.8966e+00,  4.2618e+00, -3.3103e+00,  8.2534e-01, -1.4021e+01],\n        [ 1.6983e+01,  1.5655e+01, -1.3210e+00, -4.1294e+00,  2.2268e+01,\n          2.8672e+00,  4.4964e+00, -5.6081e+00, -5.1661e-01, -7.2231e+00],\n        [ 2.0117e+01,  1.8306e+01,  5.7891e+00,  1.1166e+01,  8.1899e+00,\n          9.9674e-01,  1.3923e+01,  6.1376e+00, -2.4175e+00, -6.4803e-01]])"
     },
     "metadata": {},
     "execution_count": 5
    }
   ],
   "source": [
    "## Your solution\n",
    "\n",
    "W1 = torch.randn((784, 256))\n",
    "W2 = torch.randn((256, 10))\n",
    "B1 = torch.randn((64, 256))\n",
    "B2 = torch.randn((64, 10))\n",
    "FlattenedImages = images.view((64, 784))\n",
    "Output1 = torch.sigmoid(torch.mm(FlattenedImages, W1) + B1)\n",
    "out = torch.mm(Output1, W2) + B2\n",
    "out\n",
    "# out = # output of your network, should have shape (64,10)"
   ]
  },
  {
   "cell_type": "code",
   "execution_count": 6,
   "metadata": {
    "tags": []
   },
   "outputs": [
    {
     "output_type": "stream",
     "name": "stdout",
     "text": "torch.Size([64, 10])\n"
    }
   ],
   "source": [
    "print(out.shape)"
   ]
  },
  {
   "cell_type": "markdown",
   "metadata": {},
   "source": [
    "Now we have 10 outputs for our network. We want to pass in an image to our network and get out a probability distribution over the classes that tells us the likely class(es) the image belongs to. Something that looks like this:\n",
    "<img src='assets/image_distribution.png' width=500px>\n",
    "\n",
    "Here we see that the probability for each class is roughly the same. This is representing an untrained network, it hasn't seen any data yet so it just returns a uniform distribution with equal probabilities for each class.\n",
    "\n",
    "To calculate this probability distribution, we often use the [**softmax** function](https://en.wikipedia.org/wiki/Softmax_function). Mathematically this looks like\n",
    "\n",
    "$$\n",
    "\\Large \\sigma(x_i) = \\cfrac{e^{x_i}}{\\sum_k^K{e^{x_k}}}\n",
    "$$\n",
    "\n",
    "What this does is squish each input $x_i$ between 0 and 1 and normalizes the values to give you a proper probability distribution where the probabilites sum up to one.\n",
    "\n",
    "> **Exercise:** Implement a function `softmax` that performs the softmax calculation and returns probability distributions for each example in the batch. Note that you'll need to pay attention to the shapes when doing this. If you have a tensor `a` with shape `(64, 10)` and a tensor `b` with shape `(64,)`, doing `a/b` will give you an error because PyTorch will try to do the division across the columns (called broadcasting) but you'll get a size mismatch. The way to think about this is for each of the 64 examples, you only want to divide by one value, the sum in the denominator. So you need `b` to have a shape of `(64, 1)`. This way PyTorch will divide the 10 values in each row of `a` by the one value in each row of `b`. Pay attention to how you take the sum as well. You'll need to define the `dim` keyword in `torch.sum`. Setting `dim=0` takes the sum across the rows while `dim=1` takes the sum across the columns."
   ]
  },
  {
   "cell_type": "code",
   "execution_count": null,
   "metadata": {
    "collapsed": true
   },
   "outputs": [],
   "source": [
    "def softmax(x):\n",
    "    ## TODO: Implement the softmax function here\n",
    "\n",
    "# Here, out should be the output of the network in the previous excercise with shape (64,10)\n",
    "probabilities = softmax(out)\n",
    "\n",
    "# Does it have the right shape? Should be (64, 10)\n",
    "print(probabilities.shape)\n",
    "# Does it sum to 1?\n",
    "print(probabilities.sum(dim=1))"
   ]
  },
  {
   "cell_type": "markdown",
   "metadata": {},
   "source": [
    "## Building networks with PyTorch\n",
    "\n",
    "PyTorch provides a module `nn` that makes building networks much simpler. Here I'll show you how to build the same one as above with 784 inputs, 256 hidden units, 10 output units and a softmax output."
   ]
  },
  {
   "cell_type": "code",
   "execution_count": null,
   "metadata": {
    "collapsed": true
   },
   "outputs": [],
   "source": [
    "from torch import nn"
   ]
  },
  {
   "cell_type": "code",
   "execution_count": null,
   "metadata": {
    "collapsed": true
   },
   "outputs": [],
   "source": [
    "class Network(nn.Module):\n",
    "    def __init__(self):\n",
    "        super().__init__()\n",
    "        \n",
    "        # Inputs to hidden layer linear transformation\n",
    "        self.hidden = nn.Linear(784, 256)\n",
    "        # Output layer, 10 units - one for each digit\n",
    "        self.output = nn.Linear(256, 10)\n",
    "        \n",
    "        # Define sigmoid activation and softmax output \n",
    "        self.sigmoid = nn.Sigmoid()\n",
    "        self.softmax = nn.Softmax(dim=1)\n",
    "        \n",
    "    def forward(self, x):\n",
    "        # Pass the input tensor through each of our operations\n",
    "        x = self.hidden(x)\n",
    "        x = self.sigmoid(x)\n",
    "        x = self.output(x)\n",
    "        x = self.softmax(x)\n",
    "        \n",
    "        return x"
   ]
  },
  {
   "cell_type": "markdown",
   "metadata": {},
   "source": [
    "Let's go through this bit by bit.\n",
    "\n",
    "```python\n",
    "class Network(nn.Module):\n",
    "```\n",
    "\n",
    "Here we're inheriting from `nn.Module`. Combined with `super().__init__()` this creates a class that tracks the architecture and provides a lot of useful methods and attributes. It is mandatory to inherit from `nn.Module` when you're creating a class for your network. The name of the class itself can be anything.\n",
    "\n",
    "```python\n",
    "self.hidden = nn.Linear(784, 256)\n",
    "```\n",
    "\n",
    "This line creates a module for a linear transformation, $x\\mathbf{W} + b$, with 784 inputs and 256 outputs and assigns it to `self.hidden`. The module automatically creates the weight and bias tensors which we'll use in the `forward` method. You can access the weight and bias tensors once the network (`net`) is created with `net.hidden.weight` and `net.hidden.bias`.\n",
    "\n",
    "```python\n",
    "self.output = nn.Linear(256, 10)\n",
    "```\n",
    "\n",
    "Similarly, this creates another linear transformation with 256 inputs and 10 outputs.\n",
    "\n",
    "```python\n",
    "self.sigmoid = nn.Sigmoid()\n",
    "self.softmax = nn.Softmax(dim=1)\n",
    "```\n",
    "\n",
    "Here I defined operations for the sigmoid activation and softmax output. Setting `dim=1` in `nn.Softmax(dim=1)` calculates softmax across the columns.\n",
    "\n",
    "```python\n",
    "def forward(self, x):\n",
    "```\n",
    "\n",
    "PyTorch networks created with `nn.Module` must have a `forward` method defined. It takes in a tensor `x` and passes it through the operations you defined in the `__init__` method.\n",
    "\n",
    "```python\n",
    "x = self.hidden(x)\n",
    "x = self.sigmoid(x)\n",
    "x = self.output(x)\n",
    "x = self.softmax(x)\n",
    "```\n",
    "\n",
    "Here the input tensor `x` is passed through each operation and reassigned to `x`. We can see that the input tensor goes through the hidden layer, then a sigmoid function, then the output layer, and finally the softmax function. It doesn't matter what you name the variables here, as long as the inputs and outputs of the operations match the network architecture you want to build. The order in which you define things in the `__init__` method doesn't matter, but you'll need to sequence the operations correctly in the `forward` method.\n",
    "\n",
    "Now we can create a `Network` object."
   ]
  },
  {
   "cell_type": "code",
   "execution_count": null,
   "metadata": {
    "collapsed": true
   },
   "outputs": [],
   "source": [
    "# Create the network and look at it's text representation\n",
    "model = Network()\n",
    "model"
   ]
  },
  {
   "cell_type": "markdown",
   "metadata": {},
   "source": [
    "You can define the network somewhat more concisely and clearly using the `torch.nn.functional` module. This is the most common way you'll see networks defined as many operations are simple element-wise functions. We normally import this module as `F`, `import torch.nn.functional as F`."
   ]
  },
  {
   "cell_type": "code",
   "execution_count": null,
   "metadata": {
    "collapsed": true
   },
   "outputs": [],
   "source": [
    "import torch.nn.functional as F\n",
    "\n",
    "class Network(nn.Module):\n",
    "    def __init__(self):\n",
    "        super().__init__()\n",
    "        # Inputs to hidden layer linear transformation\n",
    "        self.hidden = nn.Linear(784, 256)\n",
    "        # Output layer, 10 units - one for each digit\n",
    "        self.output = nn.Linear(256, 10)\n",
    "        \n",
    "    def forward(self, x):\n",
    "        # Hidden layer with sigmoid activation\n",
    "        x = F.sigmoid(self.hidden(x))\n",
    "        # Output layer with softmax activation\n",
    "        x = F.softmax(self.output(x), dim=1)\n",
    "        \n",
    "        return x"
   ]
  },
  {
   "cell_type": "markdown",
   "metadata": {},
   "source": [
    "### Activation functions\n",
    "\n",
    "So far we've only been looking at the sigmoid activation function, but in general any function can be used as an activation function. The only requirement is that for a network to approximate a non-linear function, the activation functions must be non-linear. Here are a few more examples of common activation functions: Tanh (hyperbolic tangent), and ReLU (rectified linear unit).\n",
    "\n",
    "<img src=\"assets/activation.png\" width=700px>\n",
    "\n",
    "In practice, the ReLU function is used almost exclusively as the activation function for hidden layers."
   ]
  },
  {
   "cell_type": "markdown",
   "metadata": {},
   "source": [
    "### Your Turn to Build a Network\n",
    "\n",
    "<img src=\"assets/mlp_mnist.png\" width=600px>\n",
    "\n",
    "> **Exercise:** Create a network with 784 input units, a hidden layer with 128 units and a ReLU activation, then a hidden layer with 64 units and a ReLU activation, and finally an output layer with a softmax activation as shown above. You can use a ReLU activation with the `nn.ReLU` module or `F.relu` function.\n",
    "\n",
    "It's good practice to name your layers by their type of network, for instance 'fc' to represent a fully-connected layer. As you code your solution, use `fc1`, `fc2`, and `fc3` as your layer names."
   ]
  },
  {
   "cell_type": "code",
   "execution_count": null,
   "metadata": {
    "collapsed": true,
    "scrolled": true
   },
   "outputs": [],
   "source": [
    "## Your solution here\n"
   ]
  },
  {
   "cell_type": "markdown",
   "metadata": {},
   "source": [
    "### Initializing weights and biases\n",
    "\n",
    "The weights and such are automatically initialized for you, but it's possible to customize how they are initialized. The weights and biases are tensors attached to the layer you defined, you can get them with `model.fc1.weight` for instance."
   ]
  },
  {
   "cell_type": "code",
   "execution_count": null,
   "metadata": {
    "collapsed": true
   },
   "outputs": [],
   "source": [
    "print(model.fc1.weight)\n",
    "print(model.fc1.bias)"
   ]
  },
  {
   "cell_type": "markdown",
   "metadata": {},
   "source": [
    "For custom initialization, we want to modify these tensors in place. These are actually autograd *Variables*, so we need to get back the actual tensors with `model.fc1.weight.data`. Once we have the tensors, we can fill them with zeros (for biases) or random normal values."
   ]
  },
  {
   "cell_type": "code",
   "execution_count": null,
   "metadata": {
    "collapsed": true
   },
   "outputs": [],
   "source": [
    "# Set biases to all zeros\n",
    "model.fc1.bias.data.fill_(0)"
   ]
  },
  {
   "cell_type": "code",
   "execution_count": null,
   "metadata": {
    "collapsed": true
   },
   "outputs": [],
   "source": [
    "# sample from random normal with standard dev = 0.01\n",
    "model.fc1.weight.data.normal_(std=0.01)"
   ]
  },
  {
   "cell_type": "markdown",
   "metadata": {},
   "source": [
    "### Forward pass\n",
    "\n",
    "Now that we have a network, let's see what happens when we pass in an image."
   ]
  },
  {
   "cell_type": "code",
   "execution_count": null,
   "metadata": {
    "collapsed": true
   },
   "outputs": [],
   "source": [
    "# Grab some data \n",
    "dataiter = iter(trainloader)\n",
    "images, labels = dataiter.next()\n",
    "\n",
    "# Resize images into a 1D vector, new shape is (batch size, color channels, image pixels) \n",
    "images.resize_(64, 1, 784)\n",
    "# or images.resize_(images.shape[0], 1, 784) to automatically get batch size\n",
    "\n",
    "# Forward pass through the network\n",
    "img_idx = 0\n",
    "ps = model.forward(images[img_idx,:])\n",
    "\n",
    "img = images[img_idx]\n",
    "helper.view_classify(img.view(1, 28, 28), ps)"
   ]
  },
  {
   "cell_type": "markdown",
   "metadata": {},
   "source": [
    "As you can see above, our network has basically no idea what this digit is. It's because we haven't trained it yet, all the weights are random!\n",
    "\n",
    "### Using `nn.Sequential`\n",
    "\n",
    "PyTorch provides a convenient way to build networks like this where a tensor is passed sequentially through operations, `nn.Sequential` ([documentation](https://pytorch.org/docs/master/nn.html#torch.nn.Sequential)). Using this to build the equivalent network:"
   ]
  },
  {
   "cell_type": "code",
   "execution_count": null,
   "metadata": {
    "collapsed": true
   },
   "outputs": [],
   "source": [
    "# Hyperparameters for our network\n",
    "input_size = 784\n",
    "hidden_sizes = [128, 64]\n",
    "output_size = 10\n",
    "\n",
    "# Build a feed-forward network\n",
    "model = nn.Sequential(nn.Linear(input_size, hidden_sizes[0]),\n",
    "                      nn.ReLU(),\n",
    "                      nn.Linear(hidden_sizes[0], hidden_sizes[1]),\n",
    "                      nn.ReLU(),\n",
    "                      nn.Linear(hidden_sizes[1], output_size),\n",
    "                      nn.Softmax(dim=1))\n",
    "print(model)\n",
    "\n",
    "# Forward pass through the network and display output\n",
    "images, labels = next(iter(trainloader))\n",
    "images.resize_(images.shape[0], 1, 784)\n",
    "ps = model.forward(images[0,:])\n",
    "helper.view_classify(images[0].view(1, 28, 28), ps)"
   ]
  },
  {
   "cell_type": "markdown",
   "metadata": {},
   "source": [
    "Here our model is the same as before: 784 input units, a hidden layer with 128 units, ReLU activation, 64 unit hidden layer, another ReLU, then the output layer with 10 units, and the softmax output.\n",
    "\n",
    "The operations are available by passing in the appropriate index. For example, if you want to get first Linear operation and look at the weights, you'd use `model[0]`."
   ]
  },
  {
   "cell_type": "code",
   "execution_count": null,
   "metadata": {
    "collapsed": true
   },
   "outputs": [],
   "source": [
    "print(model[0])\n",
    "model[0].weight"
   ]
  },
  {
   "cell_type": "markdown",
   "metadata": {},
   "source": [
    "You can also pass in an `OrderedDict` to name the individual layers and operations, instead of using incremental integers. Note that dictionary keys must be unique, so _each operation must have a different name_."
   ]
  },
  {
   "cell_type": "code",
   "execution_count": null,
   "metadata": {
    "collapsed": true
   },
   "outputs": [],
   "source": [
    "from collections import OrderedDict\n",
    "model = nn.Sequential(OrderedDict([\n",
    "                      ('fc1', nn.Linear(input_size, hidden_sizes[0])),\n",
    "                      ('relu1', nn.ReLU()),\n",
    "                      ('fc2', nn.Linear(hidden_sizes[0], hidden_sizes[1])),\n",
    "                      ('relu2', nn.ReLU()),\n",
    "                      ('output', nn.Linear(hidden_sizes[1], output_size)),\n",
    "                      ('softmax', nn.Softmax(dim=1))]))\n",
    "model"
   ]
  },
  {
   "cell_type": "markdown",
   "metadata": {},
   "source": [
    "Now you can access layers either by integer or the name"
   ]
  },
  {
   "cell_type": "code",
   "execution_count": null,
   "metadata": {
    "collapsed": true
   },
   "outputs": [],
   "source": [
    "print(model[0])\n",
    "print(model.fc1)"
   ]
  },
  {
   "cell_type": "markdown",
   "metadata": {},
   "source": [
    "In the next notebook, we'll see how we can train a neural network to accuractly predict the numbers appearing in the MNIST images."
   ]
  }
 ],
 "metadata": {
  "kernelspec": {
   "display_name": "Python 3.6.9 64-bit",
   "language": "python",
   "name": "python_defaultSpec_1595510727681"
  },
  "language_info": {
   "codemirror_mode": {
    "name": "ipython",
    "version": 3
   },
   "file_extension": ".py",
   "mimetype": "text/x-python",
   "name": "python",
   "nbconvert_exporter": "python",
   "pygments_lexer": "ipython3",
   "version": "3.6.4"
  }
 },
 "nbformat": 4,
 "nbformat_minor": 2
}