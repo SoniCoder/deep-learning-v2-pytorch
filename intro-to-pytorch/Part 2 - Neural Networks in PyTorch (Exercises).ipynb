{
 "cells": [
  {
   "cell_type": "markdown",
   "metadata": {},
   "source": [
    "# Neural networks with PyTorch\n",
    "\n",
    "Deep learning networks tend to be massive with dozens or hundreds of layers, that's where the term \"deep\" comes from. You can build one of these deep networks using only weight matrices as we did in the previous notebook, but in general it's very cumbersome and difficult to implement. PyTorch has a nice module `nn` that provides a nice way to efficiently build large neural networks."
   ]
  },
  {
   "cell_type": "code",
   "execution_count": 1,
   "metadata": {
    "collapsed": true
   },
   "outputs": [],
   "source": [
    "# Import necessary packages\n",
    "\n",
    "%matplotlib inline\n",
    "%config InlineBackend.figure_format = 'retina'\n",
    "\n",
    "import numpy as np\n",
    "import torch\n",
    "\n",
    "import helper\n",
    "\n",
    "import matplotlib.pyplot as plt"
   ]
  },
  {
   "cell_type": "markdown",
   "metadata": {},
   "source": [
    "\n",
    "Now we're going to build a larger network that can solve a (formerly) difficult problem, identifying text in an image. Here we'll use the MNIST dataset which consists of greyscale handwritten digits. Each image is 28x28 pixels, you can see a sample below\n",
    "\n",
    "<img src='assets/mnist.png'>\n",
    "\n",
    "Our goal is to build a neural network that can take one of these images and predict the digit in the image.\n",
    "\n",
    "First up, we need to get our dataset. This is provided through the `torchvision` package. The code below will download the MNIST dataset, then create training and test datasets for us. Don't worry too much about the details here, you'll learn more about this later."
   ]
  },
  {
   "cell_type": "code",
   "execution_count": 4,
   "metadata": {
    "collapsed": true,
    "tags": []
   },
   "outputs": [],
   "source": [
    "### Run this cell\n",
    "\n",
    "from torchvision import datasets, transforms\n",
    "\n",
    "# Define a transform to normalize the data\n",
    "transform = transforms.Compose([transforms.ToTensor(),\n",
    "                              transforms.Normalize((0.5,), (0.5,)),\n",
    "                              ])\n",
    "\n",
    "# Download and load the training data\n",
    "trainset = datasets.MNIST('~/.pytorch/MNIST_data/', download=True, train=True, transform=transform)\n",
    "trainloader = torch.utils.data.DataLoader(trainset, batch_size=64, shuffle=True)"
   ]
  },
  {
   "cell_type": "markdown",
   "metadata": {},
   "source": [
    "We have the training data loaded into `trainloader` and we make that an iterator with `iter(trainloader)`. Later, we'll use this to loop through the dataset for training, like\n",
    "\n",
    "```python\n",
    "for image, label in trainloader:\n",
    "    ## do things with images and labels\n",
    "```\n",
    "\n",
    "You'll notice I created the `trainloader` with a batch size of 64, and `shuffle=True`. The batch size is the number of images we get in one iteration from the data loader and pass through our network, often called a *batch*. And `shuffle=True` tells it to shuffle the dataset every time we start going through the data loader again. But here I'm just grabbing the first batch so we can check out the data. We can see below that `images` is just a tensor with size `(64, 1, 28, 28)`. So, 64 images per batch, 1 color channel, and 28x28 images."
   ]
  },
  {
   "cell_type": "code",
   "execution_count": null,
   "metadata": {},
   "outputs": [],
   "source": []
  },
  {
   "cell_type": "code",
   "execution_count": 5,
   "metadata": {
    "collapsed": true,
    "tags": []
   },
   "outputs": [
    {
     "output_type": "stream",
     "name": "stdout",
     "text": "<class 'torch.Tensor'>\ntorch.Size([64, 1, 28, 28])\ntorch.Size([64])\n"
    }
   ],
   "source": [
    "dataiter = iter(trainloader)\n",
    "images, labels = dataiter.next()\n",
    "print(type(images))\n",
    "print(images.shape)\n",
    "print(labels.shape)"
   ]
  },
  {
   "cell_type": "markdown",
   "metadata": {},
   "source": [
    "This is what one of the images looks like. "
   ]
  },
  {
   "cell_type": "code",
   "execution_count": 6,
   "metadata": {
    "collapsed": true
   },
   "outputs": [
    {
     "output_type": "display_data",
     "data": {
      "text/plain": "<Figure size 432x288 with 1 Axes>",
      "image/png": "[encoded data removed]"
     },
     "metadata": {
      "image/png": {
       "width": 251,
       "height": 248
      },
      "needs_background": "light"
     }
    }
   ],
   "source": [
    "plt.imshow(images[1].numpy().squeeze(), cmap='Greys_r');"
   ]
  },
  {
   "cell_type": "markdown",
   "metadata": {},
   "source": [
    "First, let's try to build a simple network for this dataset using weight matrices and matrix multiplications. Then, we'll see how to do it using PyTorch's `nn` module which provides a much more convenient and powerful method for defining network architectures.\n",
    "\n",
    "The networks you've seen so far are called *fully-connected* or *dense* networks. Each unit in one layer is connected to each unit in the next layer. In fully-connected networks, the input to each layer must be a one-dimensional vector (which can be stacked into a 2D tensor as a batch of multiple examples). However, our images are 28x28 2D tensors, so we need to convert them into 1D vectors. Thinking about sizes, we need to convert the batch of images with shape `(64, 1, 28, 28)` to a have a shape of `(64, 784)`, 784 is 28 times 28. This is typically called *flattening*, we flattened the 2D images into 1D vectors.\n",
    "\n",
    "Previously you built a network with one output unit. Here we need 10 output units, one for each digit. We want our network to predict the digit shown in an image, so what we'll do is calculate probabilities that the image is of any one digit or class. This ends up being a discrete probability distribution over the classes (digits) that tells us the most likely class for the image. That means we need 10 output units for the 10 classes (digits). We'll see how to convert the network output into a probability distribution next.\n",
    "\n",
    "> **Exercise:** Flatten the batch of images `images`. Then build a multi-layer network with 784 input units, 256 hidden units, and 10 output units using random tensors for the weights and biases. For now, use a sigmoid activation for the hidden layer. Leave the output layer without an activation, we'll add one that gives us a probability distribution next."
   ]
  },
  {
   "cell_type": "code",
   "execution_count": 7,
   "metadata": {
    "collapsed": true
   },
   "outputs": [
    {
     "output_type": "execute_result",
     "data": {
      "text/plain": "tensor([[  9.4130,   7.8054,  -4.6834,  22.0866, -20.1670,  -6.0238,  -6.1952,\n          -9.2463, -21.9546,   5.6463],\n        [ 13.7326,  20.8561,   7.7857,  28.2649, -30.3030,  -2.9145, -12.1987,\n          -7.4112, -18.3142,  -2.6486],\n        [ 16.7934,  24.5620,  -4.7319,  13.0355, -17.0285,  -4.1627, -12.5358,\n          -8.4457, -11.3772,  -0.0597],\n        [ 17.0413,  11.5213, -12.8917,  15.1512, -24.0980, -16.2393,  -7.7665,\n          -3.6257, -24.8494,   5.3960],\n        [  9.2146,   0.4875, -14.7502,  15.2248, -38.6106, -11.1590,   0.1692,\n          -4.9235, -17.7763,  10.3027],\n        [ 13.7729,  12.2391,  -9.9449,  13.8753, -23.3494, -14.6827,  -2.1018,\n          -5.6183, -22.1648,  10.3541],\n        [  9.4358,  11.1700,  -6.6505,  15.1623, -14.5614, -12.8507,  -9.1287,\n          -2.6997, -10.8595,   4.3051],\n        [  9.2418,  17.8041,  -2.4780,   7.7640, -23.3667,  -6.3592,  -8.0567,\n         -12.6332,  -9.9160,  -3.2574],\n        [  4.4787,  16.4589,   3.2881,  14.2552, -27.4323, -10.2159,  -8.7495,\n           2.3422, -16.8580,  -5.5881],\n        [ 12.7277,  17.3736, -10.6246,  14.8185, -25.9172, -10.8696,  -3.6274,\n          -9.0181, -17.8180,   6.0762],\n        [ 14.1734,  11.9566,  -1.4204,  14.2194, -25.4380,  -3.6400, -13.7591,\n          -8.2808,  -6.4157,  -3.5019],\n        [ 11.5187,   9.3158,  -4.2646,   6.4860, -26.9582, -15.5551,  -2.6854,\n         -12.7291, -10.6687,   5.9525],\n        [  9.2515,  13.2953,  -5.7461,  18.1342, -26.3239, -11.0916,  -2.9430,\n          -7.1933, -19.8504,   4.8721],\n        [  9.5131,  12.6766,  -7.5813,  13.3605, -23.3621,  -4.6509,   1.7084,\n         -10.2344, -22.5137,   6.3601],\n        [ 10.6849,   6.3091,   0.0667,  17.8015, -26.2653, -12.1481,  -9.5704,\n         -12.4506, -18.2013,   0.4382],\n        [  7.6886,   5.6879,  -5.7439,  15.0517, -21.2159,  -8.5631,   1.5630,\n          -9.2734, -11.2948,   0.9800],\n        [ 10.7811,  15.8962,  -4.4942,  18.0181, -20.3479,  -9.6221,  -4.1382,\n          -3.6672, -12.1336,   4.9322],\n        [  9.1047,  15.9615,  -7.3432,  15.9616, -25.6099,  -3.2102,  -4.8522,\n          -8.4846, -22.6563,  10.0310],\n        [  5.9363,  13.4649, -14.1112,  11.0138, -32.7259,  -2.6184,  -1.9601,\n         -13.6248,  -2.3376,  -3.5551],\n        [ 20.3206,  14.4549,   1.5422,  13.3150, -18.7532,  -5.8669,  -3.9823,\n          -1.5168, -19.1547,   8.6196],\n        [  2.7773,   5.9052, -13.9952,   9.1843, -12.2491, -10.0803,  -2.1223,\n           0.3431,  -8.4957,  -6.1398],\n        [  4.7310,  16.0747,  -0.7436,  18.1047, -19.1465, -12.2271,  -6.2739,\n         -10.1536, -10.3572,   4.1305],\n        [ 13.4258,  17.1637,  -3.7916,  15.2464, -29.6246,  -8.6501, -11.1739,\n          -8.2681, -16.9029,   4.6051],\n        [  2.9445,   8.6975,  -7.7576,  19.1263,  -9.2852,  -0.1031,  -1.4637,\n          -9.8653, -22.7377,   1.5730],\n        [ 12.8986,   3.8557,  -2.3191,  13.2134, -18.8592,  -6.5726,  -4.8039,\n          -9.2092,  -7.7545,   8.3892],\n        [ 11.3248,  13.3380,  -3.7365,  21.3119, -31.0036,  -7.9029,  -8.0321,\n         -12.4503, -15.4168,   7.4387],\n        [  3.4863,  11.8128,  -0.5062,  25.5578, -25.1003, -10.0675,   4.7623,\n         -11.0428,  -5.2853,  10.8601],\n        [ 13.2818,  16.9741, -12.0411,  16.4635, -28.9604, -14.0038,  -4.7814,\n          -9.4940, -19.4130,   7.9623],\n        [ 18.5300,  15.3473,  -6.3451,  16.4165, -20.2845, -11.8888,  -8.8995,\n          -9.3993, -12.0506,  -3.3873],\n        [ 12.8391,   2.3787, -11.4704,  22.1143, -27.8904,  -9.9199,  -7.5130,\n         -17.0819, -21.7162,   9.2119],\n        [ 13.4635,   5.6313,  -5.1821,  14.4640, -16.1474,  -9.3363,  -3.6575,\n          -5.5337, -15.3529,   3.8572],\n        [  5.6411,  12.8385,  -4.7142,  13.8373, -38.4859, -11.9874,  -2.4495,\n          -9.5010, -14.3454,   5.0036],\n        [ 11.1708,  18.3681,  -6.0723,  13.4758, -29.8054, -14.6906,  -5.4127,\n          -8.8392, -23.0143,  12.2124],\n        [  4.7702,   6.2141,  -6.8125,  12.4688, -18.8982,  -9.5567,   2.1083,\n         -11.8774,  -7.4668,   1.3081],\n        [  3.9236,   9.2768,  -2.6707,  20.6602, -24.2829,  -4.8280,  -4.7429,\n         -12.9679, -16.8872,  12.2375],\n        [ 12.0166,  13.6798, -11.5210,  22.7536, -31.8456,  -6.6232,  -0.7286,\n          -5.5722, -20.8236,   6.0342],\n        [  1.4658,   5.1810,  -9.9717,  12.7727, -19.7062, -10.9477,  -2.7322,\n          -5.2368, -24.0839,  -1.8529],\n        [ 12.5234,   5.0728, -18.1195,  19.8584, -19.3876,  -9.1354,  -2.9476,\n         -14.5652, -15.3068,   8.1339],\n        [  8.9761,  11.0297, -11.2467,  18.9981, -30.5603, -19.8185,  -0.6108,\n          -4.5975, -14.0475,   6.2566],\n        [ 11.7867,  10.9176, -12.7432,  15.3901, -24.7626,  -9.8351,   0.0901,\n         -18.6832,  -5.1529,   9.9650],\n        [  6.3209,   9.9479, -17.3767,   7.3805, -25.7760, -16.1418,  -1.2022,\n         -15.2717, -16.2856,   8.9531],\n        [  8.3624,  14.0895,  -3.7442,  13.6555, -32.1669, -11.4700,  -2.5711,\n         -16.4445, -20.5258,   9.0312],\n        [ 12.5835,  12.2965,  -5.2592,  11.8116, -31.2842,  -3.4766,  -5.0624,\n          -7.5900, -13.9796,   5.0274],\n        [ 11.1277,  11.6450,  -4.2075,  15.0515, -21.9192, -18.1066,  -4.0252,\n         -11.7847, -18.3494,   1.1512],\n        [ 10.7061,  15.0688,  -5.3130,  11.9867, -29.5204,  -7.1693,  -5.1644,\n         -16.3316,  -8.9285,   3.7552],\n        [ 11.4833,   5.1175,  -4.2760,   9.2322, -21.7128,  -7.7201,  -3.1379,\n          -0.3401, -17.6680,  -3.3281],\n        [  4.2094,   1.6555,   4.4662,  11.8326, -22.9080, -10.3422,  -9.0993,\n         -14.9238, -10.2125,   2.1842],\n        [  1.0567,   3.3000, -12.8359,  26.4893, -19.1691,  -6.1032,   0.3659,\n         -11.8715, -20.0629,  10.9320],\n        [ 11.0687,   8.8518, -13.0486,   9.7070, -22.5057,  -7.5888,  -7.2582,\n          -8.2750, -12.9931,   4.0827],\n        [ 13.5018,  13.4390,  -9.5998,  20.9976, -27.0024, -10.8895,  -9.8517,\n          -9.3484, -27.7879,  10.1933],\n        [  8.8255,  20.7979, -12.3329,  17.9825, -14.2499,  -9.1590,  -4.6269,\n           1.7494,  -7.5804,   4.4166],\n        [ 11.5150,   3.6380,  -5.0274,  11.8489, -27.6911, -11.2149,  -4.5703,\n          -5.1013, -11.4343,   5.5972],\n        [ 13.0511,  12.1155,  -6.6626,  14.9433, -26.7977, -15.4215, -10.9155,\n          -5.3240, -19.6328,   3.2578],\n        [  0.7262,   3.6979,  -3.5255,   8.4642, -23.0950,  -7.5236,   3.8008,\n         -10.3422, -15.3136,   2.0338],\n        [ 14.1175,  15.9641,  -4.7560,  21.1562, -14.4755,  -6.6560,  -5.7861,\n         -10.8925,  -1.0020,   4.0961],\n        [ 14.8164,  13.4323,  -5.1187,  11.3560, -23.8926,  -5.1492,  -6.5643,\n          -6.7611, -15.8204,  -7.4509],\n        [  6.5285,  10.1585,  -7.5949,  14.7708, -20.9574, -18.2643,   0.9841,\n          -7.8923, -19.6645,  -0.9367],\n        [  8.6102,   7.4404,  -0.7190,  22.1439, -29.6921,  -9.8018,  -2.0723,\n         -10.4484, -23.4664,   8.5427],\n        [  2.5807,  14.4563, -13.6650,  15.3230, -24.0071,   2.5677, -10.7450,\n          -9.8319, -14.4118,  -0.8363],\n        [  4.5031,  14.7853, -10.5092,  17.7668, -20.7868, -14.9634,  -3.7215,\n          -1.7501,  -7.0821,   4.1521],\n        [  9.3899,  14.6896,  -5.3152,  18.7640, -26.5321,  -1.4984,  -9.4810,\n          -8.4015,  -6.7159,   5.5276],\n        [ 10.9329,   3.3967,  -7.6969,   9.1844, -19.9726,  -8.9065,  -4.8559,\n          -6.6713, -17.7401,  10.3419],\n        [  1.3693,   6.8968,  -9.5818,  23.8975, -16.5314,  -4.4296,  -1.4553,\n         -13.4083, -11.7470,   8.3680],\n        [ 20.7032,  10.6276,  -8.7303,  20.2670, -22.3510, -14.6517,  -8.1130,\n          -2.6939, -12.0407,   2.7763]])"
     },
     "metadata": {},
     "execution_count": 7
    }
   ],
   "source": [
    "## Your solution\n",
    "\n",
    "W1 = torch.randn((784, 256))\n",
    "W2 = torch.randn((256, 10))\n",
    "B1 = torch.randn((64, 256))\n",
    "B2 = torch.randn((64, 10))\n",
    "FlattenedImages = images.view((64, 784))\n",
    "Output1 = torch.sigmoid(torch.mm(FlattenedImages, W1) + B1)\n",
    "out = torch.mm(Output1, W2) + B2\n",
    "out\n",
    "# out = # output of your network, should have shape (64,10)"
   ]
  },
  {
   "cell_type": "code",
   "execution_count": 8,
   "metadata": {
    "tags": []
   },
   "outputs": [
    {
     "output_type": "stream",
     "name": "stdout",
     "text": "torch.Size([64, 10])\n"
    }
   ],
   "source": [
    "print(out.shape)"
   ]
  },
  {
   "cell_type": "markdown",
   "metadata": {},
   "source": [
    "Now we have 10 outputs for our network. We want to pass in an image to our network and get out a probability distribution over the classes that tells us the likely class(es) the image belongs to. Something that looks like this:\n",
    "<img src='assets/image_distribution.png' width=500px>\n",
    "\n",
    "Here we see that the probability for each class is roughly the same. This is representing an untrained network, it hasn't seen any data yet so it just returns a uniform distribution with equal probabilities for each class.\n",
    "\n",
    "To calculate this probability distribution, we often use the [**softmax** function](https://en.wikipedia.org/wiki/Softmax_function). Mathematically this looks like\n",
    "\n",
    "$$\n",
    "\\Large \\sigma(x_i) = \\cfrac{e^{x_i}}{\\sum_k^K{e^{x_k}}}\n",
    "$$\n",
    "\n",
    "What this does is squish each input $x_i$ between 0 and 1 and normalizes the values to give you a proper probability distribution where the probabilites sum up to one.\n",
    "\n",
    "> **Exercise:** Implement a function `softmax` that performs the softmax calculation and returns probability distributions for each example in the batch. Note that you'll need to pay attention to the shapes when doing this. If you have a tensor `a` with shape `(64, 10)` and a tensor `b` with shape `(64,)`, doing `a/b` will give you an error because PyTorch will try to do the division across the columns (called broadcasting) but you'll get a size mismatch. The way to think about this is for each of the 64 examples, you only want to divide by one value, the sum in the denominator. So you need `b` to have a shape of `(64, 1)`. This way PyTorch will divide the 10 values in each row of `a` by the one value in each row of `b`. Pay attention to how you take the sum as well. You'll need to define the `dim` keyword in `torch.sum`. Setting `dim=0` takes the sum across the rows while `dim=1` takes the sum across the columns."
   ]
  },
  {
   "cell_type": "code",
   "execution_count": 11,
   "metadata": {
    "collapsed": true,
    "tags": []
   },
   "outputs": [
    {
     "output_type": "stream",
     "name": "stdout",
     "text": "torch.Size([64])\ntorch.Size([64, 10])\ntensor([1.0000, 1.0000, 1.0000, 1.0000, 1.0000, 1.0000, 1.0000, 1.0000, 1.0000,\n        1.0000, 1.0000, 1.0000, 1.0000, 1.0000, 1.0000, 1.0000, 1.0000, 1.0000,\n        1.0000, 1.0000, 1.0000, 1.0000, 1.0000, 1.0000, 1.0000, 1.0000, 1.0000,\n        1.0000, 1.0000, 1.0000, 1.0000, 1.0000, 1.0000, 1.0000, 1.0000, 1.0000,\n        1.0000, 1.0000, 1.0000, 1.0000, 1.0000, 1.0000, 1.0000, 1.0000, 1.0000,\n        1.0000, 1.0000, 1.0000, 1.0000, 1.0000, 1.0000, 1.0000, 1.0000, 1.0000,\n        1.0000, 1.0000, 1.0000, 1.0000, 1.0000, 1.0000, 1.0000, 1.0000, 1.0000,\n        1.0000])\n"
    }
   ],
   "source": [
    "def softmax(x):\n",
    "    ## TODO: Implement the softmax function here\n",
    "    s = torch.sum(x, dim=1)\n",
    "    print(s.shape)\n",
    "    return x / s.view(64, 1)\n",
    "\n",
    "# Here, out should be the output of the network in the previous excercise with shape (64,10)\n",
    "probabilities = softmax(out)\n",
    "\n",
    "# Does it have the right shape? Should be (64, 10)\n",
    "print(probabilities.shape)\n",
    "# Does it sum to 1?\n",
    "print(probabilities.sum(dim=1))"
   ]
  },
  {
   "cell_type": "markdown",
   "metadata": {},
   "source": [
    "## Building networks with PyTorch\n",
    "\n",
    "PyTorch provides a module `nn` that makes building networks much simpler. Here I'll show you how to build the same one as above with 784 inputs, 256 hidden units, 10 output units and a softmax output."
   ]
  },
  {
   "cell_type": "code",
   "execution_count": 14,
   "metadata": {
    "collapsed": true
   },
   "outputs": [],
   "source": [
    "from torch import nn"
   ]
  },
  {
   "cell_type": "code",
   "execution_count": 15,
   "metadata": {
    "collapsed": true
   },
   "outputs": [],
   "source": [
    "class Network(nn.Module):\n",
    "    def __init__(self):\n",
    "        super().__init__()\n",
    "        \n",
    "        # Inputs to hidden layer linear transformation\n",
    "        self.hidden = nn.Linear(784, 256)\n",
    "        # Output layer, 10 units - one for each digit\n",
    "        self.output = nn.Linear(256, 10)\n",
    "        \n",
    "        # Define sigmoid activation and softmax output \n",
    "        self.sigmoid = nn.Sigmoid()\n",
    "        self.softmax = nn.Softmax(dim=1)\n",
    "        \n",
    "    def forward(self, x):\n",
    "        # Pass the input tensor through each of our operations\n",
    "        x = self.hidden(x)\n",
    "        x = self.sigmoid(x)\n",
    "        x = self.output(x)\n",
    "        x = self.softmax(x)\n",
    "        \n",
    "        return x"
   ]
  },
  {
   "cell_type": "markdown",
   "metadata": {},
   "source": [
    "Let's go through this bit by bit.\n",
    "\n",
    "```python\n",
    "class Network(nn.Module):\n",
    "```\n",
    "\n",
    "Here we're inheriting from `nn.Module`. Combined with `super().__init__()` this creates a class that tracks the architecture and provides a lot of useful methods and attributes. It is mandatory to inherit from `nn.Module` when you're creating a class for your network. The name of the class itself can be anything.\n",
    "\n",
    "```python\n",
    "self.hidden = nn.Linear(784, 256)\n",
    "```\n",
    "\n",
    "This line creates a module for a linear transformation, $x\\mathbf{W} + b$, with 784 inputs and 256 outputs and assigns it to `self.hidden`. The module automatically creates the weight and bias tensors which we'll use in the `forward` method. You can access the weight and bias tensors once the network (`net`) is created with `net.hidden.weight` and `net.hidden.bias`.\n",
    "\n",
    "```python\n",
    "self.output = nn.Linear(256, 10)\n",
    "```\n",
    "\n",
    "Similarly, this creates another linear transformation with 256 inputs and 10 outputs.\n",
    "\n",
    "```python\n",
    "self.sigmoid = nn.Sigmoid()\n",
    "self.softmax = nn.Softmax(dim=1)\n",
    "```\n",
    "\n",
    "Here I defined operations for the sigmoid activation and softmax output. Setting `dim=1` in `nn.Softmax(dim=1)` calculates softmax across the columns.\n",
    "\n",
    "```python\n",
    "def forward(self, x):\n",
    "```\n",
    "\n",
    "PyTorch networks created with `nn.Module` must have a `forward` method defined. It takes in a tensor `x` and passes it through the operations you defined in the `__init__` method.\n",
    "\n",
    "```python\n",
    "x = self.hidden(x)\n",
    "x = self.sigmoid(x)\n",
    "x = self.output(x)\n",
    "x = self.softmax(x)\n",
    "```\n",
    "\n",
    "Here the input tensor `x` is passed through each operation and reassigned to `x`. We can see that the input tensor goes through the hidden layer, then a sigmoid function, then the output layer, and finally the softmax function. It doesn't matter what you name the variables here, as long as the inputs and outputs of the operations match the network architecture you want to build. The order in which you define things in the `__init__` method doesn't matter, but you'll need to sequence the operations correctly in the `forward` method.\n",
    "\n",
    "Now we can create a `Network` object."
   ]
  },
  {
   "cell_type": "code",
   "execution_count": 16,
   "metadata": {
    "collapsed": true
   },
   "outputs": [
    {
     "output_type": "execute_result",
     "data": {
      "text/plain": "Network(\n  (hidden): Linear(in_features=784, out_features=256, bias=True)\n  (output): Linear(in_features=256, out_features=10, bias=True)\n  (sigmoid): Sigmoid()\n  (softmax): Softmax(dim=1)\n)"
     },
     "metadata": {},
     "execution_count": 16
    }
   ],
   "source": [
    "# Create the network and look at it's text representation\n",
    "model = Network()\n",
    "model"
   ]
  },
  {
   "cell_type": "markdown",
   "metadata": {},
   "source": [
    "You can define the network somewhat more concisely and clearly using the `torch.nn.functional` module. This is the most common way you'll see networks defined as many operations are simple element-wise functions. We normally import this module as `F`, `import torch.nn.functional as F`."
   ]
  },
  {
   "cell_type": "code",
   "execution_count": 17,
   "metadata": {
    "collapsed": true
   },
   "outputs": [],
   "source": [
    "import torch.nn.functional as F\n",
    "\n",
    "class Network(nn.Module):\n",
    "    def __init__(self):\n",
    "        super().__init__()\n",
    "        # Inputs to hidden layer linear transformation\n",
    "        self.hidden = nn.Linear(784, 256)\n",
    "        # Output layer, 10 units - one for each digit\n",
    "        self.output = nn.Linear(256, 10)\n",
    "        \n",
    "    def forward(self, x):\n",
    "        # Hidden layer with sigmoid activation\n",
    "        x = F.sigmoid(self.hidden(x))\n",
    "        # Output layer with softmax activation\n",
    "        x = F.softmax(self.output(x), dim=1)\n",
    "        \n",
    "        return x"
   ]
  },
  {
   "cell_type": "markdown",
   "metadata": {},
   "source": [
    "### Activation functions\n",
    "\n",
    "So far we've only been looking at the sigmoid activation function, but in general any function can be used as an activation function. The only requirement is that for a network to approximate a non-linear function, the activation functions must be non-linear. Here are a few more examples of common activation functions: Tanh (hyperbolic tangent), and ReLU (rectified linear unit).\n",
    "\n",
    "<img src=\"assets/activation.png\" width=700px>\n",
    "\n",
    "In practice, the ReLU function is used almost exclusively as the activation function for hidden layers."
   ]
  },
  {
   "cell_type": "markdown",
   "metadata": {},
   "source": [
    "### Your Turn to Build a Network\n",
    "\n",
    "<img src=\"assets/mlp_mnist.png\" width=600px>\n",
    "\n",
    "> **Exercise:** Create a network with 784 input units, a hidden layer with 128 units and a ReLU activation, then a hidden layer with 64 units and a ReLU activation, and finally an output layer with a softmax activation as shown above. You can use a ReLU activation with the `nn.ReLU` module or `F.relu` function.\n",
    "\n",
    "It's good practice to name your layers by their type of network, for instance 'fc' to represent a fully-connected layer. As you code your solution, use `fc1`, `fc2`, and `fc3` as your layer names."
   ]
  },
  {
   "cell_type": "code",
   "execution_count": 48,
   "metadata": {
    "collapsed": true,
    "scrolled": true
   },
   "outputs": [],
   "source": [
    "## Your solution here\n",
    "class Net3(nn.Module):\n",
    "    def __init__(self):\n",
    "        super().__init__()\n",
    "        self.fc1 = nn.Linear(784, 128)\n",
    "        self.fc2 = nn.Linear(128, 64)\n",
    "        self.fc3 = nn.Linear(64, 10)\n",
    "        # self.loss_layer = nn.Linear(10, 1)\n",
    "    def forward(self, x):\n",
    "        out1 = F.relu(self.fc1(x))\n",
    "        out2 = F.relu(self.fc2(out1))\n",
    "        out3 = F.relu(self.fc3(out2))\n",
    "        return F.softmax(out3, dim=1)\n",
    "        # loss = self.(hidden1(x))\n",
    "        # out1 = self.(hidden1(x))\n",
    "\n",
    "model = Net3()\n"
   ]
  },
  {
   "cell_type": "code",
   "execution_count": 49,
   "metadata": {},
   "outputs": [
    {
     "output_type": "execute_result",
     "data": {
      "text/plain": "Net3(\n  (fc1): Linear(in_features=784, out_features=128, bias=True)\n  (fc2): Linear(in_features=128, out_features=64, bias=True)\n  (fc3): Linear(in_features=64, out_features=10, bias=True)\n)"
     },
     "metadata": {},
     "execution_count": 49
    }
   ],
   "source": [
    "model"
   ]
  },
  {
   "cell_type": "markdown",
   "metadata": {},
   "source": [
    "### Initializing weights and biases\n",
    "\n",
    "The weights and such are automatically initialized for you, but it's possible to customize how they are initialized. The weights and biases are tensors attached to the layer you defined, you can get them with `model.fc1.weight` for instance."
   ]
  },
  {
   "cell_type": "code",
   "execution_count": 50,
   "metadata": {
    "collapsed": true,
    "tags": []
   },
   "outputs": [
    {
     "output_type": "stream",
     "name": "stdout",
     "text": "Parameter containing:\ntensor([[ 0.0110,  0.0266, -0.0160,  ...,  0.0150,  0.0150,  0.0119],\n        [-0.0005, -0.0173, -0.0189,  ...,  0.0145,  0.0191, -0.0336],\n        [ 0.0158,  0.0163, -0.0153,  ..., -0.0042,  0.0019, -0.0217],\n        ...,\n        [ 0.0118,  0.0188,  0.0116,  ...,  0.0232,  0.0310, -0.0253],\n        [ 0.0326,  0.0354,  0.0107,  ...,  0.0069, -0.0280,  0.0238],\n        [-0.0160,  0.0211,  0.0185,  ..., -0.0183,  0.0149,  0.0238]],\n       requires_grad=True)\nParameter containing:\ntensor([-0.0209,  0.0085, -0.0211, -0.0070,  0.0347, -0.0038, -0.0268,  0.0102,\n         0.0321,  0.0153,  0.0037,  0.0305,  0.0164, -0.0305, -0.0199, -0.0343,\n         0.0014,  0.0328,  0.0134,  0.0092,  0.0120,  0.0217,  0.0327, -0.0170,\n         0.0277,  0.0323, -0.0352,  0.0044, -0.0096, -0.0038, -0.0236, -0.0233,\n         0.0133,  0.0042, -0.0236,  0.0166,  0.0129, -0.0255, -0.0285, -0.0133,\n        -0.0285, -0.0342, -0.0203,  0.0057, -0.0351, -0.0079, -0.0265, -0.0318,\n        -0.0352,  0.0151, -0.0072, -0.0016,  0.0337,  0.0329, -0.0145,  0.0009,\n         0.0191,  0.0052,  0.0280,  0.0235,  0.0042,  0.0119, -0.0114, -0.0025,\n        -0.0248,  0.0013,  0.0289, -0.0144, -0.0096,  0.0318,  0.0164,  0.0319,\n         0.0138, -0.0293, -0.0258, -0.0147,  0.0001,  0.0160,  0.0131, -0.0217,\n        -0.0100, -0.0198, -0.0340, -0.0058,  0.0141,  0.0348,  0.0154,  0.0284,\n        -0.0015,  0.0227,  0.0050,  0.0329,  0.0184,  0.0186,  0.0182,  0.0035,\n        -0.0118,  0.0155,  0.0158, -0.0033, -0.0068,  0.0268, -0.0010, -0.0122,\n        -0.0149, -0.0321,  0.0300, -0.0286, -0.0156,  0.0318,  0.0334,  0.0117,\n         0.0180, -0.0298,  0.0041, -0.0298,  0.0087,  0.0150,  0.0197, -0.0058,\n        -0.0002, -0.0262, -0.0169, -0.0281,  0.0053,  0.0274,  0.0032,  0.0205],\n       requires_grad=True)\n"
    }
   ],
   "source": [
    "print(model.fc1.weight)\n",
    "print(model.fc1.bias)"
   ]
  },
  {
   "cell_type": "markdown",
   "metadata": {},
   "source": [
    "For custom initialization, we want to modify these tensors in place. These are actually autograd *Variables*, so we need to get back the actual tensors with `model.fc1.weight.data`. Once we have the tensors, we can fill them with zeros (for biases) or random normal values."
   ]
  },
  {
   "cell_type": "code",
   "execution_count": 51,
   "metadata": {
    "collapsed": true
   },
   "outputs": [
    {
     "output_type": "execute_result",
     "data": {
      "text/plain": "tensor([0., 0., 0., 0., 0., 0., 0., 0., 0., 0., 0., 0., 0., 0., 0., 0., 0., 0., 0., 0., 0., 0., 0., 0.,\n        0., 0., 0., 0., 0., 0., 0., 0., 0., 0., 0., 0., 0., 0., 0., 0., 0., 0., 0., 0., 0., 0., 0., 0.,\n        0., 0., 0., 0., 0., 0., 0., 0., 0., 0., 0., 0., 0., 0., 0., 0., 0., 0., 0., 0., 0., 0., 0., 0.,\n        0., 0., 0., 0., 0., 0., 0., 0., 0., 0., 0., 0., 0., 0., 0., 0., 0., 0., 0., 0., 0., 0., 0., 0.,\n        0., 0., 0., 0., 0., 0., 0., 0., 0., 0., 0., 0., 0., 0., 0., 0., 0., 0., 0., 0., 0., 0., 0., 0.,\n        0., 0., 0., 0., 0., 0., 0., 0.])"
     },
     "metadata": {},
     "execution_count": 51
    }
   ],
   "source": [
    "# Set biases to all zeros\n",
    "model.fc1.bias.data.fill_(0)"
   ]
  },
  {
   "cell_type": "code",
   "execution_count": 52,
   "metadata": {
    "collapsed": true
   },
   "outputs": [
    {
     "output_type": "execute_result",
     "data": {
      "text/plain": "tensor([[ 3.6338e-03, -1.5155e-02, -4.9583e-03,  ...,  5.9234e-03,\n          9.7956e-03,  6.6218e-03],\n        [ 4.2904e-03, -3.1032e-03,  1.7748e-03,  ..., -2.4692e-04,\n         -5.6085e-03,  2.0884e-03],\n        [ 1.4251e-02,  9.2572e-03,  5.2798e-03,  ..., -1.3306e-02,\n         -2.7147e-03,  7.0453e-04],\n        ...,\n        [-6.4704e-03, -2.4267e-03,  8.6680e-03,  ..., -1.8989e-02,\n         -2.3340e-05, -7.5307e-03],\n        [-1.9325e-02, -1.1289e-02,  2.3314e-03,  ..., -4.6598e-03,\n         -4.2878e-03,  9.8476e-03],\n        [ 8.5302e-03, -1.3823e-02, -1.2738e-02,  ...,  9.9308e-04,\n          1.8638e-02, -5.3940e-03]])"
     },
     "metadata": {},
     "execution_count": 52
    }
   ],
   "source": [
    "# sample from random normal with standard dev = 0.01\n",
    "model.fc1.weight.data.normal_(std=0.01)"
   ]
  },
  {
   "cell_type": "markdown",
   "metadata": {},
   "source": [
    "### Forward pass\n",
    "\n",
    "Now that we have a network, let's see what happens when we pass in an image."
   ]
  },
  {
   "cell_type": "code",
   "execution_count": 53,
   "metadata": {
    "collapsed": true
   },
   "outputs": [
    {
     "output_type": "display_data",
     "data": {
      "text/plain": "<Figure size 432x648 with 2 Axes>",
      "image/png": "[encoded data removed]"
     },
     "metadata": {
      "image/png": {
       "width": 424,
       "height": 235
      },
      "needs_background": "light"
     }
    }
   ],
   "source": [
    "# Grab some data \n",
    "dataiter = iter(trainloader)\n",
    "images, labels = dataiter.next()\n",
    "\n",
    "# Resize images into a 1D vector, new shape is (batch size, color channels, image pixels) \n",
    "images.resize_(64, 1, 784)\n",
    "# or images.resize_(images.shape[0], 1, 784) to automatically get batch size\n",
    "\n",
    "# Forward pass through the network\n",
    "img_idx = 0\n",
    "ps = model.forward(images[img_idx,:])\n",
    "\n",
    "img = images[img_idx]\n",
    "helper.view_classify(img.view(1, 28, 28), ps)"
   ]
  },
  {
   "cell_type": "markdown",
   "metadata": {},
   "source": [
    "As you can see above, our network has basically no idea what this digit is. It's because we haven't trained it yet, all the weights are random!\n",
    "\n",
    "### Using `nn.Sequential`\n",
    "\n",
    "PyTorch provides a convenient way to build networks like this where a tensor is passed sequentially through operations, `nn.Sequential` ([documentation](https://pytorch.org/docs/master/nn.html#torch.nn.Sequential)). Using this to build the equivalent network:"
   ]
  },
  {
   "cell_type": "code",
   "execution_count": 54,
   "metadata": {
    "collapsed": true,
    "tags": []
   },
   "outputs": [
    {
     "output_type": "stream",
     "name": "stdout",
     "text": "Sequential(\n  (0): Linear(in_features=784, out_features=128, bias=True)\n  (1): ReLU()\n  (2): Linear(in_features=128, out_features=64, bias=True)\n  (3): ReLU()\n  (4): Linear(in_features=64, out_features=10, bias=True)\n  (5): Softmax(dim=1)\n)\n"
    },
    {
     "output_type": "display_data",
     "data": {
      "text/plain": "<Figure size 432x648 with 2 Axes>",
      "image/png": "[encoded data removed]"
     },
     "metadata": {
      "image/png": {
       "width": 424,
       "height": 235
      },
      "needs_background": "light"
     }
    }
   ],
   "source": [
    "# Hyperparameters for our network\n",
    "input_size = 784\n",
    "hidden_sizes = [128, 64]\n",
    "output_size = 10\n",
    "\n",
    "# Build a feed-forward network\n",
    "model = nn.Sequential(nn.Linear(input_size, hidden_sizes[0]),\n",
    "                      nn.ReLU(),\n",
    "                      nn.Linear(hidden_sizes[0], hidden_sizes[1]),\n",
    "                      nn.ReLU(),\n",
    "                      nn.Linear(hidden_sizes[1], output_size),\n",
    "                      nn.Softmax(dim=1))\n",
    "print(model)\n",
    "\n",
    "# Forward pass through the network and display output\n",
    "images, labels = next(iter(trainloader))\n",
    "images.resize_(images.shape[0], 1, 784)\n",
    "ps = model.forward(images[0,:])\n",
    "helper.view_classify(images[0].view(1, 28, 28), ps)"
   ]
  },
  {
   "cell_type": "markdown",
   "metadata": {},
   "source": [
    "Here our model is the same as before: 784 input units, a hidden layer with 128 units, ReLU activation, 64 unit hidden layer, another ReLU, then the output layer with 10 units, and the softmax output.\n",
    "\n",
    "The operations are available by passing in the appropriate index. For example, if you want to get first Linear operation and look at the weights, you'd use `model[0]`."
   ]
  },
  {
   "cell_type": "code",
   "execution_count": 59,
   "metadata": {
    "collapsed": true,
    "tags": []
   },
   "outputs": [
    {
     "output_type": "stream",
     "name": "stdout",
     "text": "Linear(in_features=784, out_features=128, bias=True)\n"
    },
    {
     "output_type": "execute_result",
     "data": {
      "text/plain": "Parameter containing:\ntensor([[ 0.0300, -0.0213, -0.0051,  ..., -0.0004, -0.0130,  0.0288],\n        [-0.0229, -0.0120, -0.0147,  ...,  0.0024, -0.0031, -0.0207],\n        [-0.0028, -0.0129, -0.0319,  ...,  0.0254,  0.0269,  0.0278],\n        ...,\n        [ 0.0130, -0.0284, -0.0002,  ..., -0.0254,  0.0069,  0.0103],\n        [ 0.0266, -0.0304,  0.0037,  ...,  0.0133, -0.0221, -0.0044],\n        [ 0.0123,  0.0113,  0.0312,  ...,  0.0256, -0.0053, -0.0340]],\n       requires_grad=True)"
     },
     "metadata": {},
     "execution_count": 59
    }
   ],
   "source": [
    "print(model[0])\n",
    "model[0].weight"
   ]
  },
  {
   "cell_type": "markdown",
   "metadata": {},
   "source": [
    "You can also pass in an `OrderedDict` to name the individual layers and operations, instead of using incremental integers. Note that dictionary keys must be unique, so _each operation must have a different name_."
   ]
  },
  {
   "cell_type": "code",
   "execution_count": null,
   "metadata": {
    "collapsed": true
   },
   "outputs": [],
   "source": [
    "from collections import OrderedDict\n",
    "model = nn.Sequential(OrderedDict([\n",
    "                      ('fc1', nn.Linear(input_size, hidden_sizes[0])),\n",
    "                      ('relu1', nn.ReLU()),\n",
    "                      ('fc2', nn.Linear(hidden_sizes[0], hidden_sizes[1])),\n",
    "                      ('relu2', nn.ReLU()),\n",
    "                      ('output', nn.Linear(hidden_sizes[1], output_size)),\n",
    "                      ('softmax', nn.Softmax(dim=1))]))\n",
    "model"
   ]
  },
  {
   "cell_type": "markdown",
   "metadata": {},
   "source": [
    "Now you can access layers either by integer or the name"
   ]
  },
  {
   "cell_type": "code",
   "execution_count": null,
   "metadata": {
    "collapsed": true
   },
   "outputs": [],
   "source": [
    "print(model[0])\n",
    "print(model.fc1)"
   ]
  },
  {
   "cell_type": "markdown",
   "metadata": {},
   "source": [
    "In the next notebook, we'll see how we can train a neural network to accuractly predict the numbers appearing in the MNIST images."
   ]
  }
 ],
 "metadata": {
  "kernelspec": {
   "display_name": "Python 3.6.9 64-bit",
   "language": "python",
   "name": "python_defaultSpec_1595600138800"
  },
  "language_info": {
   "codemirror_mode": {
    "name": "ipython",
    "version": 3
   },
   "file_extension": ".py",
   "mimetype": "text/x-python",
   "name": "python",
   "nbconvert_exporter": "python",
   "pygments_lexer": "ipython3",
   "version": "3.6.4"
  }
 },
 "nbformat": 4,
 "nbformat_minor": 2
}