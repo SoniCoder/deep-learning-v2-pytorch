{
 "cells": [
  {
   "cell_type": "markdown",
   "metadata": {},
   "source": [
    "# Classifying Fashion-MNIST\n",
    "\n",
    "Now it's your turn to build and train a neural network. You'll be using the [Fashion-MNIST dataset](https://github.com/zalandoresearch/fashion-mnist), a drop-in replacement for the MNIST dataset. MNIST is actually quite trivial with neural networks where you can easily achieve better than 97% accuracy. Fashion-MNIST is a set of 28x28 greyscale images of clothes. It's more complex than MNIST, so it's a better representation of the actual performance of your network, and a better representation of datasets you'll use in the real world.\n",
    "\n",
    "<img src='assets/fashion-mnist-sprite.png' width=500px>\n",
    "\n",
    "In this notebook, you'll build your own neural network. For the most part, you could just copy and paste the code from Part 3, but you wouldn't be learning. It's important for you to write the code yourself and get it to work. Feel free to consult the previous notebooks though as you work through this.\n",
    "\n",
    "First off, let's load the dataset through torchvision."
   ]
  },
  {
   "cell_type": "code",
   "execution_count": 1,
   "metadata": {
    "tags": []
   },
   "outputs": [
    {
     "output_type": "stream",
     "name": "stderr",
     "text": "0it [00:00, ?it/s]Downloading http://fashion-mnist.s3-website.eu-central-1.amazonaws.com/train-images-idx3-ubyte.gz to /Users/phoenix/.pytorch/F_MNIST_data/FashionMNIST/raw/train-images-idx3-ubyte.gz\n100%|█████████▉| 26345472/26421880 [00:36<00:00, 973877.61it/s]Extracting /Users/phoenix/.pytorch/F_MNIST_data/FashionMNIST/raw/train-images-idx3-ubyte.gz to /Users/phoenix/.pytorch/F_MNIST_data/FashionMNIST/raw\n\n0it [00:00, ?it/s]\u001b[ADownloading http://fashion-mnist.s3-website.eu-central-1.amazonaws.com/train-labels-idx1-ubyte.gz to /Users/phoenix/.pytorch/F_MNIST_data/FashionMNIST/raw/train-labels-idx1-ubyte.gz\n\n  0%|          | 0/29515 [00:00<?, ?it/s]\u001b[A\n32768it [00:00, 47078.50it/s]\n\n0it [00:00, ?it/s]\u001b[AExtracting /Users/phoenix/.pytorch/F_MNIST_data/FashionMNIST/raw/train-labels-idx1-ubyte.gz to /Users/phoenix/.pytorch/F_MNIST_data/FashionMNIST/raw\nDownloading http://fashion-mnist.s3-website.eu-central-1.amazonaws.com/t10k-images-idx3-ubyte.gz to /Users/phoenix/.pytorch/F_MNIST_data/FashionMNIST/raw/t10k-images-idx3-ubyte.gz\n\n  0%|          | 0/4422102 [00:00<?, ?it/s]\u001b[A\n  0%|          | 16384/4422102 [00:00<00:54, 81555.50it/s]\u001b[A\n  1%|          | 40960/4422102 [00:00<00:44, 98428.45it/s]\u001b[A\n  2%|▏         | 98304/4422102 [00:00<00:35, 123006.79it/s]\u001b[A\n  3%|▎         | 147456/4422102 [00:01<00:26, 158439.23it/s]\u001b[A\n  5%|▍         | 212992/4422102 [00:01<00:20, 200571.67it/s]\u001b[A\n  7%|▋         | 294912/4422102 [00:01<00:16, 257869.36it/s]\u001b[A\n  9%|▊         | 385024/4422102 [00:01<00:12, 324722.12it/s]\u001b[A\n 11%|█         | 475136/4422102 [00:01<00:09, 401080.91it/s]\u001b[A\n 14%|█▍        | 638976/4422102 [00:01<00:07, 511402.56it/s]\u001b[A\n 17%|█▋        | 753664/4422102 [00:01<00:06, 611113.59it/s]\u001b[A\n 20%|██        | 901120/4422102 [00:01<00:04, 722576.56it/s]\u001b[A\n 23%|██▎       | 1015808/4422102 [00:01<00:04, 782083.91it/s]\u001b[A\n 27%|██▋       | 1179648/4422102 [00:02<00:03, 906760.37it/s]\u001b[A\n 29%|██▉       | 1302528/4422102 [00:02<00:03, 913002.63it/s]\u001b[A\n 32%|███▏      | 1417216/4422102 [00:02<00:03, 766751.08it/s]\u001b[A\n 34%|███▍      | 1515520/4422102 [00:02<00:04, 668178.00it/s]\u001b[A\n 36%|███▌      | 1597440/4422102 [00:03<00:08, 333686.36it/s]\u001b[A\n 41%|████      | 1810432/4422102 [00:03<00:06, 418862.37it/s]\u001b[A\n 43%|████▎     | 1884160/4422102 [00:03<00:05, 472121.86it/s]\u001b[A\n 44%|████▍     | 1957888/4422102 [00:04<00:10, 237011.52it/s]\u001b[A\n 47%|████▋     | 2072576/4422102 [00:04<00:07, 304358.80it/s]\u001b[A\n 51%|█████     | 2244608/4422102 [00:04<00:05, 402790.40it/s]\u001b[A\n 53%|█████▎    | 2342912/4422102 [00:04<00:04, 487924.40it/s]\u001b[A\n 56%|█████▌    | 2465792/4422102 [00:04<00:03, 594873.22it/s]\u001b[A\n 59%|█████▊    | 2588672/4422102 [00:04<00:02, 700970.28it/s]\u001b[A\n 61%|██████▏   | 2711552/4422102 [00:04<00:02, 800725.89it/s]\u001b[A\n 64%|██████▍   | 2826240/4422102 [00:04<00:01, 874710.08it/s]\u001b[A\n 67%|██████▋   | 2940928/4422102 [00:05<00:02, 687261.22it/s]\u001b[A\n 69%|██████▊   | 3039232/4422102 [00:05<00:02, 503499.77it/s]\u001b[A\n 73%|███████▎  | 3219456/4422102 [00:05<00:02, 575765.17it/s]\u001b[A\n 76%|███████▌  | 3358720/4422102 [00:05<00:01, 697103.50it/s]\u001b[A\n 78%|███████▊  | 3457024/4422102 [00:05<00:01, 659227.95it/s]\u001b[A\n 81%|████████  | 3588096/4422102 [00:06<00:01, 728506.06it/s]\u001b[A\n 83%|████████▎ | 3678208/4422102 [00:06<00:01, 606967.11it/s]\u001b[A\n 87%|████████▋ | 3858432/4422102 [00:06<00:00, 742233.40it/s]\u001b[A\n 90%|████████▉ | 3964928/4422102 [00:06<00:00, 707991.07it/s]\u001b[A\n 92%|█████████▏| 4071424/4422102 [00:06<00:00, 776008.62it/s]\u001b[A\n 94%|█████████▍| 4169728/4422102 [00:06<00:00, 821468.47it/s]\u001b[A\n 97%|█████████▋| 4284416/4422102 [00:06<00:00, 890339.27it/s]\u001b[A\n 99%|█████████▉| 4382720/4422102 [00:06<00:00, 898291.11it/s]\u001b[A\n\n0it [00:00, ?it/s]\u001b[A\u001b[AExtracting /Users/phoenix/.pytorch/F_MNIST_data/FashionMNIST/raw/t10k-images-idx3-ubyte.gz to /Users/phoenix/.pytorch/F_MNIST_data/FashionMNIST/raw\nDownloading http://fashion-mnist.s3-website.eu-central-1.amazonaws.com/t10k-labels-idx1-ubyte.gz to /Users/phoenix/.pytorch/F_MNIST_data/FashionMNIST/raw/t10k-labels-idx1-ubyte.gz\n\n\n8192it [00:00, 19025.45it/s]Extracting /Users/phoenix/.pytorch/F_MNIST_data/FashionMNIST/raw/t10k-labels-idx1-ubyte.gz to /Users/phoenix/.pytorch/F_MNIST_data/FashionMNIST/raw\nProcessing...\nDone!\n\n"
    }
   ],
   "source": [
    "import torch\n",
    "from torchvision import datasets, transforms\n",
    "import helper\n",
    "\n",
    "# Define a transform to normalize the data\n",
    "transform = transforms.Compose([transforms.ToTensor(),\n",
    "                                transforms.Normalize((0.5,), (0.5,))])\n",
    "# Download and load the training data\n",
    "trainset = datasets.FashionMNIST('~/.pytorch/F_MNIST_data/', download=True, train=True, transform=transform)\n",
    "trainloader = torch.utils.data.DataLoader(trainset, batch_size=64, shuffle=True)\n",
    "\n",
    "# Download and load the test data\n",
    "testset = datasets.FashionMNIST('~/.pytorch/F_MNIST_data/', download=True, train=False, transform=transform)\n",
    "testloader = torch.utils.data.DataLoader(testset, batch_size=64, shuffle=True)"
   ]
  },
  {
   "cell_type": "markdown",
   "metadata": {},
   "source": [
    "Here we can see one of the images."
   ]
  },
  {
   "cell_type": "code",
   "execution_count": 2,
   "metadata": {},
   "outputs": [
    {
     "output_type": "display_data",
     "data": {
      "text/plain": "<Figure size 432x288 with 1 Axes>",
      "image/svg+xml": "<?xml version=\"1.0\" encoding=\"utf-8\" standalone=\"no\"?>\n<!DOCTYPE svg PUBLIC \"-//W3C//DTD SVG 1.1//EN\"\n  \"http://www.w3.org/Graphics/SVG/1.1/DTD/svg11.dtd\">\n<!-- Created with matplotlib (https://matplotlib.org/) -->\n<svg height=\"231.84pt\" version=\"1.1\" viewBox=\"0 0 231.84 231.84\" width=\"231.84pt\" xmlns=\"http://www.w3.org/2000/svg\" xmlns:xlink=\"http://www.w3.org/1999/xlink\">\n <defs>\n  <style type=\"text/css\">\n*{stroke-linecap:butt;stroke-linejoin:round;}\n  </style>\n </defs>\n <g id=\"figure_1\">\n  <g id=\"patch_1\">\n   <path d=\"M 0 231.84 \nL 231.84 231.84 \nL 231.84 0 \nL 0 0 \nz\n\" style=\"fill:none;\"/>\n  </g>\n  <g id=\"axes_1\">\n   <g id=\"patch_2\">\n    <path d=\"M 7.2 224.64 \nL 224.64 224.64 \nL 224.64 7.2 \nL 7.2 7.2 \nz\n\" style=\"fill:#ffffff;\"/>\n   </g>\n   <g clip-path=\"url(#pcce1a65f77)\">\n    <image height=\"218\" id=\"image78519d75d5\" transform=\"scale(1 -1)translate(0 -218)\" width=\"218\" x=\"7.2\" xlink:href=\"data:image/png;base64,\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\" y=\"-6.64\"/>\n   </g>\n   <g id=\"matplotlib.axis_1\">\n    <g id=\"xtick_1\">\n     <g id=\"line2d_1\"/>\n    </g>\n    <g id=\"xtick_2\">\n     <g id=\"line2d_2\"/>\n    </g>\n    <g id=\"xtick_3\">\n     <g id=\"line2d_3\"/>\n    </g>\n    <g id=\"xtick_4\">\n     <g id=\"line2d_4\"/>\n    </g>\n    <g id=\"xtick_5\">\n     <g id=\"line2d_5\"/>\n    </g>\n    <g id=\"xtick_6\">\n     <g id=\"line2d_6\"/>\n    </g>\n   </g>\n   <g id=\"matplotlib.axis_2\">\n    <g id=\"ytick_1\">\n     <g id=\"line2d_7\"/>\n    </g>\n    <g id=\"ytick_2\">\n     <g id=\"line2d_8\"/>\n    </g>\n    <g id=\"ytick_3\">\n     <g id=\"line2d_9\"/>\n    </g>\n    <g id=\"ytick_4\">\n     <g id=\"line2d_10\"/>\n    </g>\n    <g id=\"ytick_5\">\n     <g id=\"line2d_11\"/>\n    </g>\n    <g id=\"ytick_6\">\n     <g id=\"line2d_12\"/>\n    </g>\n   </g>\n  </g>\n </g>\n <defs>\n  <clipPath id=\"pcce1a65f77\">\n   <rect height=\"217.44\" width=\"217.44\" x=\"7.2\" y=\"7.2\"/>\n  </clipPath>\n </defs>\n</svg>\n",
      "image/png": "[encoded data removed]"
     },
     "metadata": {
      "needs_background": "light"
     }
    }
   ],
   "source": [
    "image, label = next(iter(trainloader))\n",
    "helper.imshow(image[0,:]);"
   ]
  },
  {
   "cell_type": "markdown",
   "metadata": {},
   "source": [
    "## Building the network\n",
    "\n",
    "Here you should define your network. As with MNIST, each image is 28x28 which is a total of 784 pixels, and there are 10 classes. You should include at least one hidden layer. We suggest you use ReLU activations for the layers and to return the logits or log-softmax from the forward pass. It's up to you how many layers you add and the size of those layers."
   ]
  },
  {
   "cell_type": "code",
   "execution_count": 6,
   "metadata": {},
   "outputs": [],
   "source": [
    "# TODO: Define your network architecture here\n",
    "\n",
    "\n",
    "from torch import nn\n",
    "net = nn.Sequential(nn.Linear(784, 256),\n",
    "                    nn.ReLU(),\n",
    "                    nn.Linear(256, 256),\n",
    "                    nn.ReLU(),\n",
    "                    nn.Linear(256, 10))\n"
   ]
  },
  {
   "cell_type": "markdown",
   "metadata": {},
   "source": [
    "# Train the network\n",
    "\n",
    "Now you should create your network and train it. First you'll want to define [the criterion](http://pytorch.org/docs/master/nn.html#loss-functions) ( something like `nn.CrossEntropyLoss`) and [the optimizer](http://pytorch.org/docs/master/optim.html) (typically `optim.SGD` or `optim.Adam`).\n",
    "\n",
    "Then write the training code. Remember the training pass is a fairly straightforward process:\n",
    "\n",
    "* Make a forward pass through the network to get the logits \n",
    "* Use the logits to calculate the loss\n",
    "* Perform a backward pass through the network with `loss.backward()` to calculate the gradients\n",
    "* Take a step with the optimizer to update the weights\n",
    "\n",
    "By adjusting the hyperparameters (hidden units, learning rate, etc), you should be able to get the training loss below 0.4."
   ]
  },
  {
   "cell_type": "code",
   "execution_count": 7,
   "metadata": {},
   "outputs": [],
   "source": [
    "# TODO: Create the network, define the criterion and optimizer\n",
    "criterion = nn.CrossEntropyLoss()\n",
    "from torch import optim\n",
    "optimizer = optim.Adam(net.parameters(), lr=0.001)"
   ]
  },
  {
   "cell_type": "code",
   "execution_count": 20,
   "metadata": {
    "tags": []
   },
   "outputs": [
    {
     "output_type": "stream",
     "name": "stdout",
     "text": "Running Loss: 249.880417\nRunning Loss: 235.492859\nRunning Loss: 225.336090\nRunning Loss: 211.950256\nRunning Loss: 202.537216\n"
    }
   ],
   "source": [
    "# TODO: Train the network here\n",
    "EPOCHS = 5\n",
    "\n",
    "for epoch in range(EPOCHS):\n",
    "    running_loss = 0\n",
    "    for images, labels in trainloader:\n",
    "        flattened_images = images.view(images.shape[0], -1)\n",
    "        optimizer.zero_grad()\n",
    "        output = net(flattened_images)\n",
    "        loss = criterion(output, labels)\n",
    "        loss.backward()\n",
    "        optimizer.step()\n",
    "        running_loss += loss.item()\n",
    "    print(\"Running Loss: %f\"%running_loss)\n",
    "\n"
   ]
  },
  {
   "cell_type": "code",
   "execution_count": 27,
   "metadata": {
    "tags": []
   },
   "outputs": [
    {
     "output_type": "stream",
     "name": "stdout",
     "text": "tensor([[ -4.6418, -27.1489, -11.0468, -17.0696,  -8.3113, -21.0807,  -5.5892,\n         -20.4220,  11.8167, -17.1356]])\ntensor([7.1146e-08, 1.1952e-17, 1.1763e-10, 2.8501e-13, 1.8136e-09, 5.1625e-15,\n        2.7587e-08, 9.9746e-15, 1.0000e+00, 2.6679e-13])\n"
    },
    {
     "output_type": "display_data",
     "data": {
      "text/plain": "<Figure size 432x648 with 2 Axes>",
      "image/png": "[encoded data removed]"
     },
     "metadata": {
      "image/png": {
       "width": 424,
       "height": 216
      },
      "needs_background": "light"
     }
    }
   ],
   "source": [
    "%matplotlib inline\n",
    "%config InlineBackend.figure_format = 'retina'\n",
    "\n",
    "import helper\n",
    "\n",
    "# Test out your network!\n",
    "\n",
    "dataiter = iter(testloader)\n",
    "images, labels = dataiter.next()\n",
    "img = images[0]\n",
    "# Convert 2D image to 1D vector\n",
    "img = img.resize_(1, 784)\n",
    "\n",
    "# TODO: Calculate the class probabilities (softmax) for img\n",
    "with torch.no_grad():\n",
    "    out = net(img)\n",
    "    print(out)\n",
    "    ps = torch.softmax(out[0], dim=0)\n",
    "    print(ps)\n",
    "\n",
    "\n",
    "# Plot the image and probabilities\n",
    "helper.view_classify(img.resize_(1, 28, 28), ps, version='Fashion')"
   ]
  },
  {
   "cell_type": "code",
   "execution_count": null,
   "metadata": {},
   "outputs": [],
   "source": []
  }
 ],
 "metadata": {
  "kernelspec": {
   "display_name": "Python 3",
   "language": "python",
   "name": "python3"
  },
  "language_info": {
   "codemirror_mode": {
    "name": "ipython",
    "version": 3
   },
   "file_extension": ".py",
   "mimetype": "text/x-python",
   "name": "python",
   "nbconvert_exporter": "python",
   "pygments_lexer": "ipython3",
   "version": "3.6.7"
  }
 },
 "nbformat": 4,
 "nbformat_minor": 2
}